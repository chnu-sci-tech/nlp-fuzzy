{
 "cells": [
  {
   "cell_type": "markdown",
   "metadata": {},
   "source": [
    "# Fuzzy Utility"
   ]
  },
  {
   "cell_type": "markdown",
   "metadata": {},
   "source": [
    "**Ecommerce sales data**\n",
    "\n",
    "This dataset provides detailed insights into Amazon sales data, including SKU Code, Design Number, Stock, Category, Size and Color, to help optimize product profitability\n",
    "\n",
    "- Category: Type of product. (String)\n",
    "- Size: Size of the product. (String)\n",
    "- Date: Date of the sale. (Date)\n",
    "- Status: Status of the sale. (String)\n",
    "- Fulfilment: Method of fulfilment. (String)\n",
    "- Style: Style of the product. (String)\n",
    "- SKU: Stock Keeping Unit. (String)\n",
    "- ASIN: Amazon Standard Identification Number. (String)\n",
    "- Courier Status: Status of the courier. (String)\n",
    "- Qty: Quantity of the product. (Integer)\n",
    "- Amount: Amount of the sale. (Float)\n",
    "- B2B: Business to business sale. (Boolean)\n",
    "- Currency: The currency used for the sale. (String)"
   ]
  }
 ],
 "metadata": {
  "language_info": {
   "name": "python"
  }
 },
 "nbformat": 4,
 "nbformat_minor": 2
}
