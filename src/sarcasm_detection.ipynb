{
 "cells": [
  {
   "cell_type": "markdown",
   "metadata": {},
   "source": [
    "# Sarcasm detection"
   ]
  },
  {
   "cell_type": "markdown",
   "metadata": {},
   "source": [
    "## ideas:\n",
    "- автоматичне виявлення сарказму в соц мережах (твіттер etc)\n",
    "- генерація саркастичних висловлювань \n",
    "- аналіз впливу емодзі пунктуація \n",
    "- сарказм у різних культурах порівняння \n",
    "- в політичних текстах\n",
    "- в мультимодальному контексті (текст зображення голос)\n",
    "- у новинах та заголовках\n",
    "- \n",
    "- "
   ]
  },
  {
   "cell_type": "code",
   "execution_count": 1,
   "metadata": {},
   "outputs": [],
   "source": [
    "# imports section\n",
    "import numpy as np\n",
    "import math\n",
    "from numpy import dot\n",
    "from numpy.linalg import norm\n",
    "from gensim import corpora, models, similarities\n",
    "import string\n",
    "\n",
    "import gensim.downloader as api\n",
    "from gensim.models import Word2Vec"
   ]
  },
  {
   "cell_type": "markdown",
   "metadata": {},
   "source": [
    "## Assign mood scores"
   ]
  },
  {
   "cell_type": "code",
   "execution_count": 4,
   "metadata": {},
   "outputs": [],
   "source": [
    "lexicon = {\n",
    "    \"anxious\": 0.1,\n",
    "    \"furious\": 0.0,\n",
    "    \"peaceful\": 0.9, \n",
    "    \"hate\": 0.0,\n",
    "    \"joyful\": 0.9, \n",
    "    \"unacceptable\": 0.1,\n",
    "    \"thrilled\": 0.9, \n",
    "    \"infuriating\": 0.1,\n",
    "    \"irate\": 0.1, \n",
    "    \"terrible\": 0.1,\n",
    "    \"nervous\": 0.2,\n",
    "    \"melancholy\": 0.3, \n",
    "    \"depressed\": 0.1, \n",
    "    \"gloomy\": 0.1, \n",
    "    \"serene\": 0.8, \n",
    "    \"elated\": 0.8,\n",
    "    \"ecstatic\": 0.9,\n",
    "    \"overjoyed\": 0.9,\n",
    "    \"gleeful\": 0.7,\n",
    "    \"cheerful\": 0.7,\n",
    "    \"optimistic\": 0.7,\n",
    "    \"buoyant\": 0.6,\n",
    "    \"enthusiastic\": 0.7,\n",
    "    \"upbeat\": 0.6,\n",
    "    \"festive\": 0.6,\n",
    "    \"playful\": 0.6,\n",
    "    \"vivacious\": 0.6,\n",
    "    \"amused\": 0.7,\n",
    "    \"blissful\": 0.6,\n",
    "    \"grateful\": 0.8,\n",
    "    \"tranquil\": 0.8,\n",
    "    \"relaxed\": 0.7,\n",
    "    \"comfortable\": 0.6,\n",
    "    \"cozy\": 0.6,\n",
    "    \"warm\": 0.6,\n",
    "    \"inviting\": 0.6, \n",
    "    \"satisfied\": 0.5,\n",
    "    \"pleasant\": 0.6, \n",
    "    \"pleased\" : 0.7, \n",
    "    \"happy\": 0.8\n",
    "    }"
   ]
  },
  {
   "cell_type": "markdown",
   "metadata": {},
   "source": [
    "## Read adjectives from txt file and define array of given adjactive scores"
   ]
  },
  {
   "cell_type": "code",
   "execution_count": 5,
   "metadata": {},
   "outputs": [
    {
     "name": "stdout",
     "output_type": "stream",
     "text": [
      "[-1.6298e-01  3.0141e-01  5.7978e-01  6.6548e-02  4.5835e-01 -1.5329e-01\n",
      "  4.3258e-01 -8.9215e-01  5.7747e-01  3.6375e-01  5.6524e-01 -5.6281e-01\n",
      "  3.5659e-01 -3.6096e-01 -9.9662e-02  5.2753e-01  3.8839e-01  9.6185e-01\n",
      "  1.8841e-01  3.0741e-01 -8.7842e-01 -3.2442e-01  1.1202e+00  7.5126e-02\n",
      "  4.2661e-01 -6.0651e-01 -1.3893e-01  4.7862e-02 -4.5158e-01  9.3723e-02\n",
      "  1.7463e-01  1.0962e+00 -1.0044e+00  6.3889e-02  3.8002e-01  2.1109e-01\n",
      " -6.6247e-01 -4.0736e-01  8.9442e-01 -6.0974e-01 -1.8577e-01 -1.9913e-01\n",
      " -6.9226e-01 -3.1806e-01 -7.8565e-01  2.3831e-01  1.2992e-01  8.7721e-02\n",
      "  4.3205e-01 -2.2662e-01  3.1549e-01 -3.1748e-01 -2.4632e-03  1.6615e-01\n",
      "  4.2358e-01 -1.8087e+00 -3.6699e-01  2.3949e-01  2.5458e+00  3.6111e-01\n",
      "  3.9486e-02  4.8607e-01 -3.6974e-01  5.7282e-02 -4.9317e-01  2.2765e-01\n",
      "  7.9966e-01  2.1428e-01  6.9811e-01  1.1262e+00 -1.3526e-01  7.1972e-01\n",
      " -9.9605e-04 -2.6842e-01 -8.3038e-01  2.1780e-01  3.4355e-01  3.7731e-01\n",
      " -4.0251e-01  3.3124e-01  1.2576e+00 -2.7196e-01 -8.6093e-01  9.0053e-02\n",
      " -2.4876e+00  4.5200e-01  6.6945e-01 -5.4648e-01 -1.0324e-01 -1.6979e-01\n",
      "  5.9437e-01  1.1280e+00  7.5755e-01 -5.9160e-02  1.5152e-01 -2.8388e-01\n",
      "  4.9452e-01 -9.1703e-01  9.1289e-01 -3.0927e-01]\n"
     ]
    }
   ],
   "source": [
    "corpus = api.load('glove-wiki-gigaword-100')\n",
    "\n",
    "vector = corpus['computer']\n",
    "print(vector)"
   ]
  },
  {
   "cell_type": "code",
   "execution_count": 6,
   "metadata": {},
   "outputs": [],
   "source": [
    "data = ''\n",
    "\n",
    "# with open('../sets/adjectives.txt', 'r') as file:\n",
    "#     data = file.read().replace('\\n', '')\n",
    "\n",
    "# adjectives = data.split(',')\n",
    "\n",
    "with open('../sets/english-adjectives.txt', 'r') as file:\n",
    "    data = file.read().replace('\\n', ',')\n",
    "\n",
    "adjectives = data.split(',')\n",
    "\n",
    "\n",
    "adjectives_scored = {}\n",
    "\n",
    "# indx = corpus.index()\n",
    "\n",
    "for adjective in adjectives:\n",
    "    if adjective in corpus:\n",
    "        adjectives_scored[adjective] = corpus[adjective]\n"
   ]
  },
  {
   "cell_type": "markdown",
   "metadata": {},
   "source": [
    "## Extrapolate mood scores to adjactives using ML"
   ]
  },
  {
   "cell_type": "code",
   "execution_count": null,
   "metadata": {},
   "outputs": [],
   "source": [
    "from sklearn.svm import SVR\n",
    "from sklearn.multioutput import MultiOutputRegressor\n",
    "from sklearn.preprocessing import StandardScaler\n",
    "from sklearn.pipeline import make_pipeline\n",
    "\n",
    "lexicon_trained = {}\n",
    "\n",
    "# Create a pipeline with StandardScaler and SVR, wrapped in MultiOutputRegressor\n",
    "model = MultiOutputRegressor(make_pipeline(StandardScaler(), SVR(kernel='rbf', C=1.0)))\n",
    "\n",
    "x_train, y_train = [], []\n",
    "for key in lexicon.keys():\n",
    "    x_train.append(adjectives_scored[key])\n",
    "    y_train.append([lexicon[key], 0])\n",
    "\n",
    "x_train_np = np.array(x_train)\n",
    "y_train_np = np.array(y_train)\n",
    "\n",
    "    # Train the model\n",
    "model.fit(x_train, y_train)\n",
    "\n",
    "for key in adjectives_scored:\n",
    "    result = model.predict([adjectives_scored[key]])\n",
    "    lexicon_trained[key] = result[0][0]\n",
    "\n",
    "print(lexicon_trained)"
   ]
  },
  {
   "cell_type": "markdown",
   "metadata": {},
   "source": [
    "## Basic NLP techniques to extract mood score changes for text"
   ]
  },
  {
   "cell_type": "code",
   "execution_count": 8,
   "metadata": {},
   "outputs": [],
   "source": [
    "from nltk.stem import PorterStemmer, WordNetLemmatizer\n",
    "from nltk.tokenize import word_tokenize\n",
    "import nltk\n",
    "\n",
    "def calculate_mood_series(text):\n",
    "    lemmatizer = WordNetLemmatizer()\n",
    "    # Tokenize text into words\n",
    "    words = word_tokenize(text)\n",
    "    # Apply lemmatization\n",
    "    lemmatized_words = [lemmatizer.lemmatize(word) for word in words]\n",
    "\n",
    "    mood_series = []\n",
    "    for word in lemmatized_words:\n",
    "        if word in lexicon_trained.keys():\n",
    "            mood_series.append(lexicon_trained[word])\n",
    "    return mood_series"
   ]
  },
  {
   "cell_type": "code",
   "execution_count": 9,
   "metadata": {},
   "outputs": [
    {
     "name": "stdout",
     "output_type": "stream",
     "text": [
      "[0.45973176454385156, 0.3325276673498717, 0.42756880944163317]\n"
     ]
    }
   ],
   "source": [
    "example_text = \"It was the best of times, it was the worst of times, it was the age of wisdom, it was the age of foolishness, it was the epoch of belief, it was the epoch of incredulity, it was the season of light, it was the season of darkness, it was the spring of hope, it was the winter of despair.\"\n",
    "\n",
    "print(calculate_mood_series(example_text))"
   ]
  },
  {
   "cell_type": "markdown",
   "metadata": {},
   "source": [
    "may be try classification instead of regression?\n",
    "classify in positive and negative moods."
   ]
  },
  {
   "cell_type": "markdown",
   "metadata": {},
   "source": [
    "## classification   "
   ]
  },
  {
   "cell_type": "code",
   "execution_count": null,
   "metadata": {},
   "outputs": [],
   "source": [
    "lexicon = {\n",
    "    \"anxious\": 0,\n",
    "    \"furious\": 0,\n",
    "    \"peaceful\": 1, \n",
    "    \"hate\": 0,\n",
    "    \"joyful\": 1, \n",
    "    \"unacceptable\": 0,\n",
    "    \"thrilled\": 1, \n",
    "    \"infuriating\": 0,\n",
    "    \"irate\": 0, \n",
    "    \"terrible\": 0,\n",
    "    \"nervous\": 0,\n",
    "    \"melancholy\": 0, \n",
    "    \"useless\": 0,\n",
    "    \"depressed\": 1, \n",
    "    \"gloomy\": 0, \n",
    "    \"serene\": 1, \n",
    "    \"elated\": 1,\n",
    "    \"ecstatic\": 1,\n",
    "    \"overjoyed\": 1,\n",
    "    \"gleeful\": 1,\n",
    "    \"cheerful\": 1,\n",
    "    \"optimistic\": 1,\n",
    "    \"buoyant\": 1,\n",
    "    \"enthusiastic\": 1,\n",
    "    \"upbeat\": 1,\n",
    "    \"festive\": 1,\n",
    "    \"playful\": 1,\n",
    "    \"vivacious\": 1,\n",
    "    \"amused\": 1,\n",
    "    \"blissful\": 1,\n",
    "    \"grateful\": 1,\n",
    "    \"tranquil\": 1,\n",
    "    \"relaxed\": 1,\n",
    "    \"comfortable\": 1,\n",
    "    \"cozy\": 1,\n",
    "    \"warm\": 1,\n",
    "    \"inviting\": 1, \n",
    "    \"satisfied\": 1,\n",
    "    \"pleasant\": 1, \n",
    "    \"pleased\" : 1, \n",
    "    \"happy\": 1\n",
    "    }"
   ]
  },
  {
   "cell_type": "code",
   "execution_count": 23,
   "metadata": {},
   "outputs": [],
   "source": [
    "data = ''\n",
    "\n",
    "with open('../sets/english-adjectives.txt', 'r') as file:\n",
    "    data = file.read().replace('\\n', ',')\n",
    "\n",
    "adjectives = data.split(',')\n",
    "\n",
    "\n",
    "adjectives_scored = {}\n",
    "\n",
    "# indx = corpus.index()\n",
    "\n",
    "for adjective in adjectives:\n",
    "    if adjective in corpus:\n",
    "        adjectives_scored[adjective] = corpus[adjective]\n"
   ]
  },
  {
   "cell_type": "code",
   "execution_count": 28,
   "metadata": {},
   "outputs": [
    {
     "name": "stdout",
     "output_type": "stream",
     "text": [
      "{'abandoned': 1, 'able': 1, 'absolute': 1, 'adorable': 1, 'adventurous': 1, 'academic': 1, 'acceptable': 1, 'acclaimed': 1, 'accomplished': 1, 'accurate': 1, 'aching': 1, 'acidic': 1, 'acrobatic': 1, 'active': 1, 'actual': 1, 'adept': 1, 'admirable': 1, 'admired': 1, 'adolescent': 1, 'adored': 1, 'advanced': 1, 'afraid': 0, 'affectionate': 1, 'aged': 1, 'aggravating': 1, 'aggressive': 1, 'agile': 1, 'agitated': 1, 'agonizing': 1, 'agreeable': 1, 'ajar': 1, 'alarmed': 0, 'alarming': 0, 'alert': 1, 'alienated': 1, 'alive': 1, 'all': 1, 'altruistic': 1, 'amazing': 1, 'ambitious': 1, 'ample': 1, 'amused': 1, 'amusing': 1, 'anchored': 1, 'ancient': 1, 'angelic': 1, 'angry': 0, 'anguished': 1, 'animated': 1, 'annual': 1, 'another': 1, 'antique': 1, 'anxious': 0, 'any': 1, 'apprehensive': 1, 'appropriate': 1, 'apt': 1, 'arctic': 1, 'arid': 1, 'aromatic': 1, 'artistic': 1, 'ashamed': 1, 'assured': 1, 'astonishing': 1, 'athletic': 1, 'attached': 1, 'attentive': 1, 'attractive': 1, 'austere': 1, 'authentic': 1, 'authorized': 1, 'automatic': 1, 'avaricious': 1, 'average': 1, 'aware': 1, 'awesome': 1, 'awful': 0, 'awkward': 1, 'babyish': 1, 'bad': 0, 'back': 1, 'baggy': 1, 'bare': 1, 'barren': 1, 'basic': 1, 'beautiful': 1, 'belated': 1, 'beloved': 1, 'beneficial': 1, 'better': 1, 'best': 1, 'bewitched': 1, 'big': 1, 'big-hearted': 1, 'biodegradable': 1, 'bite-sized': 1, 'bitter': 0, 'black': 1, 'black-and-white': 1, 'bland': 1, 'blank': 1, 'blaring': 1, 'bleak': 1, 'blind': 1, 'blissful': 1, 'blond': 1, 'blue': 1, 'blushing': 1, 'bogus': 1, 'boiling': 1, 'bold': 1, 'bony': 1, 'boring': 1, 'bossy': 1, 'both': 1, 'bouncy': 1, 'bountiful': 1, 'bowed': 1, 'brave': 1, 'breakable': 1, 'brief': 1, 'bright': 1, 'brilliant': 1, 'brisk': 1, 'broken': 1, 'bronze': 1, 'brown': 1, 'bruised': 1, 'bubbly': 1, 'bulky': 1, 'bumpy': 1, 'buoyant': 1, 'burdensome': 1, 'burly': 1, 'bustling': 1, 'busy': 1, 'buttery': 1, 'buzzing': 1, 'calculating': 1, 'calm': 1, 'candid': 1, 'canine': 1, 'capital': 1, 'carefree': 1, 'careful': 1, 'careless': 0, 'caring': 1, 'cautious': 1, 'cavernous': 1, 'celebrated': 1, 'charming': 1, 'cheap': 1, 'cheerful': 1, 'cheery': 1, 'chief': 1, 'chilly': 1, 'chubby': 1, 'circular': 1, 'classic': 1, 'clean': 1, 'clear': 1, 'clear-cut': 1, 'clever': 1, 'close': 1, 'closed': 1, 'cloudy': 1, 'clueless': 1, 'clumsy': 1, 'cluttered': 1, 'coarse': 1, 'cold': 1, 'colorful': 1, 'colorless': 1, 'colossal': 1, 'comfortable': 1, 'common': 1, 'compassionate': 1, 'competent': 1, 'complete': 1, 'complex': 1, 'complicated': 1, 'composed': 1, 'concerned': 1, 'concrete': 1, 'confused': 1, 'conscious': 1, 'considerate': 1, 'constant': 1, 'content': 1, 'conventional': 1, 'cooked': 1, 'cool': 1, 'cooperative': 1, 'coordinated': 1, 'corny': 1, 'corrupt': 1, 'costly': 0, 'courageous': 1, 'courteous': 1, 'crafty': 1, 'crazy': 1, 'creamy': 1, 'creative': 1, 'creepy': 1, 'criminal': 0, 'crisp': 1, 'critical': 1, 'crooked': 1, 'crowded': 1, 'cruel': 0, 'crushing': 1, 'cuddly': 1, 'cultivated': 1, 'cultured': 1, 'cumbersome': 1, 'curly': 1, 'curvy': 1, 'cute': 1, 'cylindrical': 1, 'damaged': 1, 'damp': 1, 'dangerous': 0, 'dapper': 1, 'daring': 1, 'darling': 1, 'dark': 1, 'dazzling': 1, 'dead': 1, 'deadly': 0, 'deafening': 1, 'dear': 1, 'dearest': 1, 'decent': 1, 'decimal': 1, 'decisive': 1, 'deep': 1, 'defenseless': 1, 'defensive': 1, 'defiant': 1, 'deficient': 1, 'definite': 1, 'definitive': 1, 'delayed': 1, 'delectable': 1, 'delicious': 1, 'delightful': 1, 'delirious': 1, 'demanding': 1, 'dense': 1, 'dental': 1, 'dependable': 1, 'dependent': 1, 'descriptive': 1, 'deserted': 1, 'detailed': 1, 'determined': 1, 'devoted': 1, 'different': 1, 'difficult': 1, 'digital': 1, 'diligent': 1, 'dim': 1, 'dimpled': 1, 'dimwitted': 1, 'direct': 1, 'disastrous': 0, 'discrete': 1, 'disfigured': 1, 'disgusting': 0, 'disloyal': 1, 'dismal': 1, 'distant': 1, 'downright': 1, 'dreary': 1, 'dirty': 1, 'disguised': 1, 'dishonest': 1, 'distinct': 1, 'distorted': 1, 'dizzy': 1, 'dopey': 1, 'doting': 1, 'double': 1, 'drab': 1, 'drafty': 1, 'dramatic': 1, 'droopy': 1, 'dry': 1, 'dual': 1, 'dull': 1, 'dutiful': 1, 'each': 1, 'eager': 1, 'earnest': 1, 'early': 1, 'easy': 1, 'easy-going': 1, 'ecstatic': 1, 'edible': 1, 'educated': 1, 'elaborate': 1, 'elastic': 1, 'elated': 1, 'elderly': 1, 'electric': 1, 'elegant': 1, 'elementary': 1, 'elliptical': 1, 'embarrassed': 1, 'embellished': 1, 'eminent': 1, 'emotional': 1, 'empty': 1, 'enchanted': 1, 'enchanting': 1, 'energetic': 1, 'enlightened': 1, 'enormous': 1, 'enraged': 0, 'entire': 1, 'envious': 1, 'equal': 1, 'equatorial': 1, 'essential': 1, 'esteemed': 1, 'ethical': 1, 'euphoric': 1, 'even': 1, 'evergreen': 1, 'everlasting': 1, 'every': 1, 'evil': 0, 'exalted': 1, 'excellent': 1, 'exemplary': 1, 'exhausted': 1, 'excitable': 1, 'excited': 1, 'exciting': 1, 'exotic': 1, 'expensive': 1, 'experienced': 1, 'expert': 1, 'extraneous': 1, 'extroverted': 1, 'extra-large': 1, 'fabulous': 1, 'failing': 1, 'faint': 1, 'fair': 1, 'faithful': 1, 'fake': 1, 'false': 1, 'familiar': 1, 'famous': 1, 'fancy': 1, 'fantastic': 1, 'far': 1, 'faraway': 1, 'far-flung': 1, 'far-off': 1, 'fast': 1, 'fat': 1, 'fatal': 0, 'fatherly': 1, 'favorable': 1, 'favorite': 1, 'fearful': 0, 'fearless': 1, 'feisty': 1, 'feline': 1, 'female': 1, 'feminine': 1, 'few': 1, 'fickle': 1, 'filthy': 1, 'fine': 1, 'finished': 1, 'firm': 1, 'first': 1, 'firsthand': 1, 'fitting': 1, 'fixed': 1, 'flaky': 1, 'flamboyant': 1, 'flashy': 1, 'flat': 1, 'flawed': 1, 'flawless': 1, 'flickering': 1, 'flimsy': 1, 'flippant': 1, 'flowery': 1, 'fluffy': 1, 'fluid': 1, 'flustered': 1, 'focused': 1, 'fond': 1, 'foolhardy': 1, 'foolish': 1, 'forceful': 1, 'forked': 1, 'formal': 1, 'forsaken': 1, 'forthright': 1, 'fortunate': 1, 'fragrant': 1, 'frail': 1, 'frank': 1, 'frayed': 1, 'free': 1, 'fresh': 1, 'frequent': 1, 'friendly': 1, 'frightened': 0, 'frightening': 0, 'frigid': 1, 'frilly': 1, 'frizzy': 1, 'frivolous': 1, 'front': 1, 'frosty': 1, 'frozen': 1, 'frugal': 1, 'fruitful': 1, 'full': 1, 'fumbling': 1, 'functional': 1, 'funny': 1, 'fussy': 1, 'fuzzy': 1, 'gargantuan': 1, 'gaseous': 1, 'general': 1, 'generous': 1, 'gentle': 1, 'genuine': 1, 'giant': 1, 'giddy': 1, 'gigantic': 1, 'gifted': 1, 'giving': 1, 'glamorous': 1, 'glaring': 1, 'glass': 1, 'gleaming': 1, 'gleeful': 1, 'glistening': 1, 'glittering': 1, 'gloomy': 1, 'glorious': 1, 'glossy': 1, 'glum': 1, 'golden': 1, 'good': 1, 'good-natured': 1, 'gorgeous': 1, 'graceful': 1, 'gracious': 1, 'grand': 1, 'grandiose': 1, 'granular': 1, 'grateful': 1, 'grave': 1, 'gray': 1, 'great': 1, 'greedy': 1, 'green': 1, 'gregarious': 1, 'grim': 1, 'grimy': 1, 'gripping': 0, 'grizzled': 1, 'gross': 1, 'grotesque': 1, 'grouchy': 1, 'grounded': 1, 'growing': 1, 'growling': 1, 'grown': 1, 'grubby': 1, 'gruesome': 0, 'grumpy': 1, 'guilty': 1, 'gullible': 1, 'gummy': 1, 'hairy': 1, 'half': 1, 'handmade': 1, 'handsome': 1, 'handy': 1, 'happy': 1, 'happy-go-lucky': 1, 'hard': 1, 'hard-to-find': 1, 'harmful': 1, 'harmless': 1, 'harmonious': 1, 'harsh': 0, 'hasty': 1, 'hateful': 0, 'haunting': 1, 'healthy': 1, 'heartfelt': 1, 'hearty': 1, 'heavenly': 1, 'heavy': 1, 'hefty': 1, 'helpful': 1, 'helpless': 1, 'hidden': 1, 'hideous': 1, 'high': 1, 'high-level': 1, 'hilarious': 1, 'hoarse': 1, 'hollow': 1, 'homely': 1, 'honest': 1, 'honorable': 1, 'honored': 1, 'hopeful': 1, 'horrible': 0, 'hospitable': 1, 'hot': 1, 'huge': 1, 'humble': 1, 'humiliating': 0, 'humming': 1, 'humongous': 1, 'hungry': 1, 'hurtful': 1, 'husky': 1, 'icky': 1, 'icy': 1, 'ideal': 1, 'idealistic': 1, 'identical': 1, 'idle': 1, 'idiotic': 1, 'idolized': 1, 'ignorant': 1, 'ill': 1, 'illegal': 1, 'ill-fated': 1, 'ill-informed': 1, 'illiterate': 1, 'illustrious': 1, 'imaginary': 1, 'imaginative': 1, 'immaculate': 1, 'immaterial': 1, 'immediate': 1, 'immense': 1, 'impassioned': 1, 'impeccable': 1, 'impartial': 1, 'imperfect': 1, 'imperturbable': 1, 'impish': 1, 'impolite': 1, 'important': 1, 'impossible': 1, 'impractical': 1, 'impressionable': 1, 'impressive': 1, 'improbable': 1, 'impure': 1, 'inborn': 1, 'incomparable': 1, 'incompatible': 1, 'incomplete': 1, 'inconsequential': 1, 'incredible': 1, 'indelible': 1, 'inexperienced': 1, 'indolent': 1, 'infamous': 0, 'infantile': 1, 'infatuated': 1, 'inferior': 1, 'infinite': 1, 'informal': 1, 'innocent': 1, 'insecure': 1, 'insidious': 0, 'insignificant': 1, 'insistent': 1, 'instructive': 1, 'insubstantial': 1, 'intelligent': 1, 'intent': 1, 'intentional': 1, 'interesting': 1, 'internal': 0, 'international': 1, 'intrepid': 1, 'ironclad': 1, 'irresponsible': 0, 'irritating': 1, 'itchy': 1, 'jaded': 1, 'jagged': 1, 'jam-packed': 1, 'jaunty': 1, 'jealous': 1, 'jittery': 1, 'joint': 1, 'jolly': 1, 'jovial': 1, 'joyful': 1, 'joyous': 1, 'jubilant': 1, 'judicious': 1, 'juicy': 1, 'jumbo': 1, 'junior': 1, 'jumpy': 1, 'juvenile': 1, 'kaleidoscopic': 1, 'keen': 1, 'key': 1, 'kind': 1, 'kindhearted': 1, 'kindly': 1, 'klutzy': 1, 'knobby': 1, 'knotty': 1, 'knowledgeable': 1, 'knowing': 1, 'known': 1, 'kooky': 1, 'kosher': 1, 'lame': 1, 'lanky': 1, 'large': 1, 'last': 1, 'lasting': 1, 'late': 1, 'lavish': 1, 'lawful': 1, 'lazy': 1, 'leading': 1, 'lean': 1, 'leafy': 1, 'left': 1, 'legal': 1, 'legitimate': 1, 'light': 1, 'lighthearted': 1, 'likable': 1, 'likely': 1, 'limited': 1, 'limp': 1, 'limping': 1, 'linear': 1, 'lined': 1, 'liquid': 1, 'little': 1, 'live': 1, 'lively': 1, 'livid': 1, 'loathsome': 1, 'lone': 1, 'lonely': 1, 'long': 1, 'long-term': 1, 'loose': 1, 'lopsided': 1, 'lost': 1, 'loud': 1, 'lovable': 1, 'lovely': 1, 'loving': 1, 'low': 1, 'loyal': 1, 'lucky': 1, 'lumbering': 1, 'luminous': 1, 'lumpy': 1, 'lustrous': 1, 'luxurious': 1, 'mad': 0, 'made-up': 1, 'magnificent': 1, 'majestic': 1, 'major': 1, 'male': 1, 'mammoth': 1, 'married': 1, 'marvelous': 1, 'masculine': 1, 'massive': 1, 'mature': 1, 'meager': 1, 'mealy': 1, 'mean': 1, 'measly': 1, 'meaty': 1, 'medical': 1, 'mediocre': 1, 'medium': 1, 'meek': 1, 'mellow': 1, 'melodic': 1, 'memorable': 1, 'menacing': 1, 'merry': 1, 'messy': 1, 'metallic': 1, 'mild': 1, 'milky': 1, 'mindless': 1, 'miniature': 1, 'minor': 1, 'minty': 1, 'miserable': 1, 'miserly': 1, 'misguided': 1, 'misty': 1, 'mixed': 1, 'modern': 1, 'modest': 1, 'moist': 1, 'monstrous': 0, 'monthly': 1, 'monumental': 1, 'moral': 1, 'mortified': 1, 'motherly': 1, 'motionless': 1, 'mountainous': 1, 'muddy': 1, 'muffled': 1, 'multicolored': 1, 'mundane': 1, 'murky': 1, 'mushy': 1, 'musty': 1, 'muted': 1, 'mysterious': 1, 'naive': 1, 'narrow': 1, 'nasty': 0, 'natural': 1, 'naughty': 1, 'nautical': 1, 'near': 1, 'neat': 1, 'necessary': 1, 'needy': 1, 'negative': 1, 'neglected': 1, 'negligible': 1, 'neighboring': 1, 'nervous': 0, 'new': 1, 'next': 1, 'nice': 1, 'nifty': 1, 'nimble': 1, 'nippy': 1, 'nocturnal': 1, 'noisy': 1, 'nonstop': 1, 'normal': 1, 'notable': 1, 'noted': 1, 'noteworthy': 1, 'novel': 1, 'noxious': 1, 'numb': 1, 'nutritious': 1, 'nutty': 1, 'obedient': 1, 'obese': 1, 'oblong': 1, 'oily': 1, 'obvious': 1, 'occasional': 1, 'odd': 1, 'oddball': 1, 'offbeat': 1, 'offensive': 1, 'official': 1, 'old': 1, 'old-fashioned': 1, 'only': 1, 'open': 1, 'optimal': 1, 'optimistic': 1, 'opulent': 1, 'orange': 1, 'orderly': 1, 'organic': 1, 'ornate': 1, 'ornery': 1, 'ordinary': 1, 'original': 1, 'other': 1, 'our': 1, 'outlying': 1, 'outgoing': 1, 'outlandish': 1, 'outrageous': 0, 'outstanding': 1, 'oval': 1, 'overcooked': 1, 'overdue': 1, 'overjoyed': 1, 'overlooked': 1, 'palatable': 1, 'pale': 1, 'paltry': 1, 'parallel': 1, 'parched': 1, 'partial': 1, 'passionate': 1, 'past': 1, 'pastel': 1, 'peaceful': 1, 'peppery': 1, 'perfect': 1, 'perfumed': 1, 'periodic': 1, 'perky': 1, 'personal': 1, 'pertinent': 1, 'pesky': 1, 'pessimistic': 1, 'petty': 1, 'phony': 1, 'physical': 1, 'piercing': 1, 'pink': 1, 'pitiful': 1, 'plain': 1, 'plaintive': 1, 'plastic': 1, 'playful': 1, 'pleasant': 1, 'pleased': 1, 'pleasing': 1, 'plump': 1, 'plush': 1, 'polished': 1, 'polite': 1, 'political': 1, 'pointed': 1, 'pointless': 1, 'poised': 1, 'poor': 1, 'popular': 1, 'portly': 1, 'posh': 1, 'positive': 1, 'possible': 1, 'potable': 1, 'powerful': 1, 'powerless': 1, 'practical': 1, 'precious': 1, 'present': 1, 'prestigious': 1, 'pretty': 1, 'previous': 1, 'pricey': 1, 'prickly': 1, 'primary': 1, 'prime': 1, 'pristine': 1, 'private': 1, 'prize': 1, 'probable': 1, 'productive': 1, 'profitable': 1, 'profuse': 1, 'proper': 1, 'proud': 1, 'prudent': 1, 'punctual': 1, 'pungent': 1, 'puny': 1, 'pure': 1, 'purple': 1, 'pushy': 1, 'putrid': 1, 'puzzled': 1, 'puzzling': 1, 'quaint': 1, 'qualified': 1, 'quarrelsome': 1, 'quarterly': 1, 'queasy': 1, 'querulous': 1, 'questionable': 1, 'quick': 1, 'quick-witted': 1, 'quiet': 1, 'quintessential': 1, 'quirky': 1, 'quixotic': 1, 'quizzical': 1, 'radiant': 1, 'ragged': 1, 'rapid': 1, 'rare': 1, 'rash': 0, 'raw': 1, 'recent': 1, 'reckless': 0, 'rectangular': 1, 'ready': 1, 'real': 1, 'realistic': 1, 'reasonable': 1, 'red': 1, 'reflecting': 1, 'regal': 1, 'regular': 1, 'reliable': 1, 'relieved': 1, 'remarkable': 1, 'remorseful': 1, 'remote': 1, 'repentant': 1, 'required': 1, 'respectful': 1, 'responsible': 1, 'repulsive': 1, 'revolving': 1, 'rewarding': 1, 'rich': 1, 'rigid': 1, 'right': 1, 'ringed': 1, 'ripe': 1, 'roasted': 1, 'robust': 1, 'rosy': 1, 'rotating': 1, 'rotten': 1, 'rough': 1, 'round': 1, 'rowdy': 1, 'royal': 1, 'rubbery': 1, 'rundown': 1, 'ruddy': 1, 'rude': 1, 'runny': 1, 'rural': 1, 'rusty': 1, 'sad': 1, 'safe': 1, 'salty': 1, 'same': 1, 'sandy': 1, 'sane': 1, 'sarcastic': 1, 'sardonic': 1, 'satisfied': 1, 'scaly': 1, 'scarce': 1, 'scared': 0, 'scary': 1, 'scented': 1, 'scholarly': 1, 'scientific': 1, 'scornful': 1, 'scratchy': 1, 'scrawny': 1, 'second': 1, 'secondary': 1, 'second-hand': 1, 'secret': 1, 'self-assured': 1, 'self-reliant': 1, 'selfish': 1, 'sentimental': 1, 'separate': 1, 'serene': 1, 'serious': 0, 'serpentine': 1, 'several': 1, 'severe': 0, 'shabby': 1, 'shadowy': 1, 'shady': 1, 'shallow': 1, 'shameful': 0, 'shameless': 1, 'sharp': 1, 'shimmering': 1, 'shiny': 1, 'shocked': 1, 'shocking': 0, 'shoddy': 1, 'short': 1, 'short-term': 1, 'showy': 1, 'shrill': 1, 'shy': 1, 'sick': 1, 'silent': 1, 'silky': 1, 'silly': 1, 'silver': 1, 'similar': 1, 'simple': 1, 'simplistic': 1, 'sinful': 1, 'single': 1, 'sizzling': 1, 'skeletal': 1, 'skinny': 1, 'sleepy': 1, 'slight': 1, 'slim': 1, 'slimy': 1, 'slippery': 1, 'slow': 1, 'slushy': 1, 'small': 1, 'smart': 1, 'smoggy': 1, 'smooth': 1, 'smug': 1, 'snappy': 1, 'snarling': 1, 'sneaky': 1, 'sniveling': 1, 'snoopy': 1, 'sociable': 1, 'soft': 1, 'soggy': 1, 'solid': 1, 'somber': 1, 'some': 1, 'spherical': 1, 'sophisticated': 1, 'sore': 1, 'sorrowful': 1, 'soulful': 1, 'soupy': 1, 'sour': 1, 'sparkling': 1, 'sparse': 1, 'specific': 1, 'spectacular': 1, 'speedy': 1, 'spicy': 1, 'spiffy': 1, 'spirited': 1, 'spiteful': 1, 'splendid': 1, 'spotless': 1, 'spotted': 1, 'spry': 1, 'square': 1, 'squeaky': 1, 'squiggly': 1, 'stable': 1, 'staid': 1, 'stained': 1, 'stale': 1, 'standard': 1, 'starchy': 1, 'stark': 1, 'starry': 1, 'steep': 1, 'sticky': 1, 'stiff': 1, 'stimulating': 1, 'stingy': 1, 'stormy': 1, 'straight': 1, 'strange': 1, 'steel': 1, 'strict': 1, 'strident': 1, 'striking': 1, 'striped': 1, 'strong': 1, 'studious': 1, 'stunning': 1, 'stupendous': 1, 'stupid': 0, 'sturdy': 1, 'stylish': 1, 'subdued': 1, 'submissive': 1, 'substantial': 1, 'subtle': 1, 'suburban': 1, 'sudden': 0, 'sugary': 1, 'sunny': 1, 'super': 1, 'superb': 1, 'superficial': 1, 'superior': 1, 'supportive': 1, 'sure-footed': 1, 'surprised': 1, 'suspicious': 1, 'svelte': 1, 'sweaty': 1, 'sweet': 1, 'sweltering': 1, 'swift': 1, 'sympathetic': 1, 'tall': 1, 'talkative': 1, 'tame': 1, 'tan': 1, 'tangible': 1, 'tart': 1, 'tasty': 1, 'tattered': 1, 'taut': 1, 'tedious': 1, 'teeming': 1, 'tempting': 1, 'tender': 1, 'tense': 1, 'tepid': 1, 'terrible': 0, 'terrific': 1, 'testy': 1, 'thankful': 1, 'that': 1, 'these': 1, 'thick': 1, 'thin': 1, 'third': 1, 'thirsty': 1, 'this': 1, 'thorough': 1, 'thorny': 1, 'those': 1, 'thoughtful': 1, 'threadbare': 1, 'thrifty': 1, 'thunderous': 1, 'tidy': 1, 'tight': 1, 'timely': 1, 'tinted': 1, 'tiny': 1, 'tired': 1, 'torn': 1, 'total': 1, 'tough': 1, 'traumatic': 1, 'treasured': 1, 'tremendous': 1, 'tragic': 0, 'trained': 1, 'triangular': 1, 'tricky': 1, 'trifling': 1, 'trim': 1, 'trivial': 1, 'troubled': 1, 'true': 1, 'trusting': 1, 'trustworthy': 1, 'trusty': 1, 'truthful': 1, 'tubby': 1, 'turbulent': 1, 'twin': 1, 'ugly': 0, 'ultimate': 1, 'unacceptable': 0, 'unaware': 1, 'uncomfortable': 1, 'uncommon': 1, 'unconscious': 1, 'understated': 1, 'unequaled': 1, 'uneven': 1, 'unfinished': 1, 'unfit': 1, 'unfolded': 1, 'unfortunate': 0, 'unhappy': 1, 'unhealthy': 1, 'uniform': 1, 'unimportant': 1, 'unique': 1, 'united': 1, 'unkempt': 1, 'unknown': 1, 'unlawful': 1, 'unlined': 1, 'unlucky': 1, 'unnatural': 1, 'unpleasant': 1, 'unrealistic': 1, 'unripe': 1, 'unruly': 0, 'unselfish': 1, 'unsightly': 1, 'unsteady': 1, 'unsung': 1, 'untidy': 1, 'untimely': 1, 'untried': 1, 'untrue': 1, 'unused': 1, 'unusual': 1, 'unwelcome': 1, 'unwieldy': 1, 'unwilling': 1, 'unwitting': 1, 'unwritten': 1, 'upbeat': 1, 'upright': 1, 'upset': 0, 'urban': 1, 'usable': 1, 'used': 1, 'useful': 1, 'useless': 1, 'utilized': 1, 'utter': 1, 'vacant': 1, 'vague': 1, 'vain': 1, 'valid': 1, 'valuable': 1, 'vapid': 1, 'variable': 1, 'vast': 1, 'velvety': 1, 'venerated': 1, 'vengeful': 1, 'verifiable': 1, 'vibrant': 1, 'vicious': 0, 'victorious': 1, 'vigilant': 1, 'vigorous': 1, 'villainous': 1, 'violet': 1, 'violent': 0, 'virtual': 1, 'virtuous': 1, 'visible': 1, 'vital': 1, 'vivacious': 1, 'vivid': 1, 'voluminous': 1, 'wan': 1, 'warlike': 1, 'warm': 1, 'warmhearted': 1, 'warped': 1, 'wary': 1, 'wasteful': 1, 'watchful': 1, 'waterlogged': 1, 'watery': 1, 'wavy': 1, 'wealthy': 1, 'weak': 1, 'weary': 1, 'webbed': 1, 'wee': 1, 'weekly': 1, 'weepy': 1, 'weighty': 1, 'weird': 1, 'welcome': 1, 'well-documented': 1, 'well-groomed': 1, 'well-informed': 1, 'well-lit': 1, 'well-made': 1, 'well-off': 1, 'well-to-do': 1, 'well-worn': 1, 'wet': 1, 'which': 1, 'whimsical': 1, 'whirlwind': 1, 'whispered': 1, 'white': 1, 'whole': 1, 'whopping': 1, 'wicked': 1, 'wide': 1, 'wide-eyed': 1, 'wiggly': 1, 'wild': 1, 'willing': 1, 'wilted': 1, 'winding': 1, 'windy': 1, 'winged': 1, 'wiry': 1, 'wise': 1, 'witty': 1, 'wobbly': 1, 'woeful': 1, 'wonderful': 1, 'wooden': 1, 'woozy': 1, 'wordy': 1, 'worldly': 1, 'worn': 1, 'worried': 0, 'worrisome': 1, 'worse': 0, 'worst': 0, 'worthless': 1, 'worthwhile': 1, 'worthy': 1, 'wrathful': 1, 'wretched': 1, 'writhing': 1, 'wrong': 0, 'wry': 1, 'yawning': 1, 'yearly': 1, 'yellow': 1, 'yellowish': 1, 'young': 1, 'youthful': 1, 'yummy': 1, 'zany': 1, 'zealous': 1, 'zesty': 1, 'zigzag': 1, 'furious': 0, 'hate': 0, 'thrilled': 1, 'infuriating': 0, 'irate': 0, 'melancholy': 1, 'depressed': 1, 'enthusiastic': 1, 'festive': 1, 'tranquil': 1, 'relaxed': 1, 'cozy': 1, 'inviting': 1}\n"
     ]
    }
   ],
   "source": [
    "import numpy as np\n",
    "import matplotlib.pyplot as plt\n",
    "from sklearn import datasets\n",
    "from sklearn.model_selection import train_test_split\n",
    "from sklearn.svm import SVC\n",
    "from sklearn.metrics import accuracy_score\n",
    "\n",
    "lexicon_trained = {}\n",
    "\n",
    "# Create a pipeline with StandardScaler and SVR, wrapped in MultiOutputRegressor\n",
    "model = SVC(kernel='rbf', C=1.0, gamma='scale')\n",
    "\n",
    "x_train, y_train = [], []\n",
    "for key in lexicon.keys():\n",
    "    x_train.append(adjectives_scored[key])\n",
    "    y_train.append(lexicon[key])\n",
    "\n",
    "x_train_prepared = x_train\n",
    "y_train_prepared = np.array(list(lexicon.values()))\n",
    "\n",
    "    # Train the model\n",
    "model.fit(x_train_prepared, y_train_prepared)\n",
    "\n",
    "for key in adjectives_scored:\n",
    "    result = model.predict([adjectives_scored[key]])\n",
    "    lexicon_trained[key] = result[0]\n",
    "\n",
    "print(lexicon_trained)"
   ]
  },
  {
   "cell_type": "markdown",
   "metadata": {},
   "source": [
    "## Analyse timeseries"
   ]
  },
  {
   "cell_type": "markdown",
   "metadata": {},
   "source": [
    "## Let's try emojis/punctuation"
   ]
  },
  {
   "cell_type": "code",
   "execution_count": 16,
   "metadata": {},
   "outputs": [
    {
     "name": "stdout",
     "output_type": "stream",
     "text": [
      "['😄', '👋', '✨', '🌈', '🌍', '🌞', '🚀', '🎉', '☕']\n",
      "[':grinning_face_with_smiling_eyes:', ':waving_hand:', ':sparkles:', ':rainbow:', ':globe_showing_Europe-Africa:', ':sun_with_face:', ':rocket:', ':party_popper:', ':hot_beverage:']\n"
     ]
    }
   ],
   "source": [
    "import emoji\n",
    "\n",
    "# def extract_emojis(s):\n",
    "#   return ''.join(c for c in s if c in emoji.distinct_emoji_list('en'))\n",
    "\n",
    "example_text = \"Hey there! 👋 How's your day going? 🌞 Whether you're sipping coffee ☕, exploring new places 🌍, or just chilling at home �, I hope it's amazing! 🎉 Don't forget to smile 😄 and spread positivity! ✨ Life's a journey 🚀, so enjoy every moment! 🌈✨\"\n",
    "emoji_list = emoji.distinct_emoji_list(example_text)\n",
    "print(emoji_list)\n",
    "\n",
    "unicode_values = [emoji.demojize(e).encode('unicode_escape').decode('utf-8') for e in emoji_list]\n",
    "print(unicode_values)"
   ]
  },
  {
   "cell_type": "markdown",
   "metadata": {},
   "source": [
    "Use two markers at the same time: text mood classifications (positive negative -> function) and emoji+punctuation "
   ]
  }
 ],
 "metadata": {
  "kernelspec": {
   "display_name": "Python 3",
   "language": "python",
   "name": "python3"
  },
  "language_info": {
   "codemirror_mode": {
    "name": "ipython",
    "version": 3
   },
   "file_extension": ".py",
   "mimetype": "text/x-python",
   "name": "python",
   "nbconvert_exporter": "python",
   "pygments_lexer": "ipython3",
   "version": "3.10.0"
  }
 },
 "nbformat": 4,
 "nbformat_minor": 2
}
