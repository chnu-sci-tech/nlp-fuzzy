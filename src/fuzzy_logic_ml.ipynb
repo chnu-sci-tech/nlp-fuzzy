{
 "cells": [
  {
   "cell_type": "code",
   "execution_count": 2,
   "metadata": {},
   "outputs": [],
   "source": [
    "import numpy as np\n",
    "import skfuzzy as fuzz\n",
    "import matplotlib.pyplot as plt\n",
    "from skfuzzy import control as ctrl\n",
    "import pandas as pd"
   ]
  },
  {
   "cell_type": "markdown",
   "metadata": {},
   "source": [
    "# Automated rule generation\n",
    "\n",
    "The basic idea here is to introduce the automated rule generation for fuzzy logic ruleset."
   ]
  },
  {
   "cell_type": "code",
   "execution_count": 3,
   "metadata": {},
   "outputs": [
    {
     "name": "stdout",
     "output_type": "stream",
     "text": [
      "[[ 0  0  0  0  0  0]\n",
      " [ 1  0  0  0 -1  0]\n",
      " [-1  0  0  0  1  0]\n",
      " [ 1  1  0  0  0  0]\n",
      " [ 0  0  0  0 -1 -1]\n",
      " [ 0  0  0  0  1  1]\n",
      " [ 0  0  0  0 -1 -1]\n",
      " [ 0  1  0  0  0  1]\n",
      " [ 1  0  1  0  0  0]\n",
      " [ 0  0  0  1  0  1]\n",
      " [ 0  0  0  1  1  0]\n",
      " [-1  0 -1  0  0  0]\n",
      " [ 1  0  0 -1  0  0]\n",
      " [ 0  1  0  0  1  0]\n",
      " [ 1  0  1  1  0  0]\n",
      " [ 0  0  0  1  1  1]]\n"
     ]
    }
   ],
   "source": [
    "moods = [\"Angry\", \"Worried\", \"Sad\", \"Calm\", \"Happy\", \"Excited\"]\n",
    "\n",
    "df = pd.read_csv('../sets/ruleset_train.csv')\n",
    "ruleset_train = df.loc[:, [\"x1\", \"x2\", \"x3\", \"x4\", \"x5\", \"x6\"]].values\n",
    "y_train = df.loc[:, [\"y\"]].values\n",
    "\n",
    "print(ruleset_train)"
   ]
  },
  {
   "cell_type": "markdown",
   "metadata": {},
   "source": [
    "## Classification algorithm - decision trees!\n",
    "\n",
    "Lets try decision trees for our ruleset generation"
   ]
  },
  {
   "cell_type": "code",
   "execution_count": 6,
   "metadata": {},
   "outputs": [],
   "source": [
    "from sklearn import tree\n",
    "\n",
    "clf = tree.DecisionTreeClassifier()\n",
    "clf = clf.fit(ruleset_train, y_train)\n",
    "\n"
   ]
  }
 ],
 "metadata": {
  "kernelspec": {
   "display_name": "Python 3",
   "language": "python",
   "name": "python3"
  },
  "language_info": {
   "codemirror_mode": {
    "name": "ipython",
    "version": 3
   },
   "file_extension": ".py",
   "mimetype": "text/x-python",
   "name": "python",
   "nbconvert_exporter": "python",
   "pygments_lexer": "ipython3",
   "version": "3.10.0"
  }
 },
 "nbformat": 4,
 "nbformat_minor": 2
}
