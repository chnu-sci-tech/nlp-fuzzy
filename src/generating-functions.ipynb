{
 "cells": [
  {
   "cell_type": "markdown",
   "metadata": {},
   "source": [
    "# Generating Functions"
   ]
  },
  {
   "cell_type": "markdown",
   "metadata": {},
   "source": [
    "Try to solve recurrent series with generating functions in python "
   ]
  },
  {
   "cell_type": "code",
   "execution_count": 2,
   "metadata": {},
   "outputs": [],
   "source": [
    "# imports section\n",
    "from sympy import *"
   ]
  },
  {
   "cell_type": "code",
   "execution_count": 3,
   "metadata": {},
   "outputs": [
    {
     "name": "stdout",
     "output_type": "stream",
     "text": [
      "[2.00000000000000, -4.00000000000000, 3.00000000000000, -1.00000000000000]\n"
     ]
    }
   ],
   "source": [
    "n = symbols('n')\n",
    "expr = ((n-1)**2)*(2*n-2) + (2*n-1)*(2*n-2)*(1/2)\n",
    "\n",
    "simplified = simplify(expr)\n",
    "# print(\"After Simplification : {}\".format(simplified)) \n",
    "\n",
    "initial_coefficients = Poly(expr.subs(n, Symbol('n')), Symbol('n')).all_coeffs()\n",
    "print(initial_coefficients)"
   ]
  },
  {
   "cell_type": "markdown",
   "metadata": {},
   "source": [
    "## Analogues of Pascal triangle:"
   ]
  },
  {
   "cell_type": "code",
   "execution_count": 4,
   "metadata": {},
   "outputs": [
    {
     "name": "stdout",
     "output_type": "stream",
     "text": [
      "            1             \n",
      "           1 1            \n",
      "          1 4 1           \n",
      "        1 11 11 1         \n",
      "       1 26 66 26 1       \n",
      "    1 57 302 302 57 1     \n",
      "1 120 1191 2416 1191 120 1\n"
     ]
    }
   ],
   "source": [
    "def generate_pascals_triangle(n):\n",
    "    triangle = [[1] * (i + 1) for i in range(n)]\n",
    "    \n",
    "    for i in range(2, n):\n",
    "        for j in range(1, i):\n",
    "            # triangle[i][j] = triangle[i - 1][j - 1] + triangle[i - 1][j]\n",
    "            triangle[i][j] = (i-j+1)*triangle[i - 1][j - 1] + (j+1)*triangle[i - 1][j] # series from generating funct. of type n^a*x^n \n",
    "    \n",
    "    return triangle\n",
    "\n",
    "def display_pascals_triangle(triangle):\n",
    "    max_width = len(\" \".join(map(str, triangle[-1])))\n",
    "    for row in triangle:\n",
    "        row_str = \" \".join(map(str, row))\n",
    "        print(row_str.center(max_width))\n",
    "\n",
    "triangle = generate_pascals_triangle(7)\n",
    "display_pascals_triangle(triangle=triangle)"
   ]
  },
  {
   "cell_type": "code",
   "execution_count": 14,
   "metadata": {},
   "outputs": [
    {
     "name": "stdout",
     "output_type": "stream",
     "text": [
      "After Simplification : (-1.0*x/(1 - x) + 3.0*x/(1 - x)**2 - 4.0*(x**2 + x)/(1 - x)**3 + 2.0*(x**3 + 4*x**2 + x)/(1 - x)**4)/(1 - x)\n"
     ]
    }
   ],
   "source": [
    "x = symbols('x')\n",
    "expression_fractal = initial_coefficients[len(initial_coefficients) - 1] * x / (1 - x)\n",
    "triangle_diff = generate_pascals_triangle(len(initial_coefficients)-1)\n",
    "for i in range(len(initial_coefficients)-1):\n",
    "    expr_i = 0\n",
    "    for j in range(i+1):\n",
    "        expr_i += triangle_diff[i][j]* x**(j+1)\n",
    "    expression_fractal += expr_i * (1/(1-x)**(i+2)) * initial_coefficients[len(initial_coefficients) - 2 - i]\n",
    "\n",
    "expression_fractal = expression_fractal * (1/(1-x))\n",
    "print(\"After Simplification : {}\".format(expression_fractal)) # some error in this cells"
   ]
  },
  {
   "cell_type": "code",
   "execution_count": null,
   "metadata": {},
   "outputs": [
    {
     "name": "stdout",
     "output_type": "stream",
     "text": [
      "Combined Expression: x*(2.0*x**2 + 8.0*x - 1.0*(1 - x)**3 + 3.0*(1 - x)**2 - 4.0*(1 - x)*(x + 1) + 2.0)/(1 - x)**5\n",
      "Partial Fraction Expansion: -1.0/(x - 1) - 10.0/(x - 1)**2 - 29.0/(x - 1)**3 - 32.0/(x - 1)**4 - 12.0/(x - 1)**5\n",
      "[1.0, -10.0, 29.0, -32.0, 12.0]\n"
     ]
    }
   ],
   "source": [
    "# bring under one denominator\n",
    "expr_combined = together(expression_fractal)\n",
    "print(\"Combined Expression:\", expr_combined)\n",
    "\n",
    "# partial fraction decomposition:\n",
    "expr_partial_fraction = apart(expr_combined)\n",
    "print(\"Partial Fraction Expansion:\", expr_partial_fraction)\n",
    "\n",
    "parameters = []\n",
    "for term in expr_partial_fraction.as_ordered_terms():\n",
    "    coeff, _ = term.as_independent(x)  # get coefficient independent of x\n",
    "    parameters.append(float(coeff))    # convert to numerical value\n",
    "\n",
    "for i in range(len(parameters)):\n",
    "    if i % 2 == 0:\n",
    "        parameters[i] *= -1\n",
    "\n",
    "print(parameters)"
   ]
  },
  {
   "cell_type": "code",
   "execution_count": 24,
   "metadata": {},
   "outputs": [
    {
     "name": "stdout",
     "output_type": "stream",
     "text": [
      "0.0\n",
      "0.0\n",
      "5.0\n",
      "31.0\n",
      "106.0\n",
      "270.0\n",
      "575.0000000000005\n",
      "1085.0\n",
      "1876.0\n",
      "3036.0\n"
     ]
    }
   ],
   "source": [
    "import math\n",
    "\n",
    "def generating_function(parameters_generating, n):\n",
    "    result = 0\n",
    "    for i in range(len(parameters_generating)):\n",
    "        multiplier = parameters_generating[i]/ math.factorial(i)\n",
    "        for j in range(i):\n",
    "            multiplier *= n + 1 + j\n",
    "        result += multiplier\n",
    "    return result\n",
    "\n",
    "for i in range(10):\n",
    "    print(generating_function(parameters, i))"
   ]
  },
  {
   "cell_type": "code",
   "execution_count": 25,
   "metadata": {},
   "outputs": [
    {
     "name": "stdout",
     "output_type": "stream",
     "text": [
      "For 0 : 0\n",
      "For 1 : 0\n",
      "For 2 : 5\n",
      "For 3 : 31\n",
      "For 4 : 106\n",
      "For 5 : 270\n",
      "For 6 : 575\n",
      "For 7 : 1085\n",
      "For 8 : 1876\n",
      "For 9 : 3036\n"
     ]
    }
   ],
   "source": [
    "# compare\n",
    "def get_n(n):\n",
    "    return 1 + (-10) * (n+1) + (29/2)*(n+2)*(n+1) - (16/3) * (n+3)*(n+2)*(n+1)+(1/2) * (n+4)*(n+3)*(n+2)*(n+1)\n",
    "\n",
    "for i in range(10):\n",
    "    print(f\"For {i} : {round(get_n(i))}\" )"
   ]
  },
  {
   "cell_type": "markdown",
   "metadata": {},
   "source": [
    "## All together: Generating functions producer"
   ]
  },
  {
   "cell_type": "code",
   "execution_count": null,
   "metadata": {},
   "outputs": [
    {
     "name": "stdout",
     "output_type": "stream",
     "text": [
      "[2.00000000000000, -4.00000000000000, 3.00000000000000, -1.00000000000000]\n",
      "After Simplification : (-1.0*x/(1 - x) + 3.0*x/(1 - x)**2 - 4.0*(x**2 + x)/(1 - x)**3 + 2.0*(x**3 + 4*x**2 + x)/(1 - x)**4)/(1 - x)\n",
      "Combined Expression: x*(2.0*x**2 + 8.0*x - 1.0*(1 - x)**3 + 3.0*(1 - x)**2 - 4.0*(1 - x)*(x + 1) + 2.0)/(1 - x)**5\n",
      "Partial Fraction Expansion: -1.0/(x - 1) - 10.0/(x - 1)**2 - 29.0/(x - 1)**3 - 32.0/(x - 1)**4 - 12.0/(x - 1)**5\n",
      "[1.0, -10.0, 29.0, -32.0, 12.0]\n",
      "[2.00000000000000, -4.00000000000000, 3.00000000000000, -1.00000000000000]\n",
      "After Simplification : (-1.0*x/(1 - x) + 3.0*x/(1 - x)**2 - 4.0*(x**2 + x)/(1 - x)**3 + 2.0*(x**3 + 4*x**2 + x)/(1 - x)**4)/(1 - x)\n",
      "Combined Expression: x*(2.0*x**2 + 8.0*x - 1.0*(1 - x)**3 + 3.0*(1 - x)**2 - 4.0*(1 - x)*(x + 1) + 2.0)/(1 - x)**5\n",
      "Partial Fraction Expansion: -1.0/(x - 1) - 10.0/(x - 1)**2 - 29.0/(x - 1)**3 - 32.0/(x - 1)**4 - 12.0/(x - 1)**5\n",
      "[1.0, -10.0, 29.0, -32.0, 12.0]\n",
      "-10.0*n + (-5.33333333333333*n - 5.33333333333333)*(n + 2)*(n + 3) + (0.5*n + 0.5)*(n + 2)*(n + 3)*(n + 4) + (n + 2)*(14.5*n + 14.5) - 9.0\n",
      "0\n",
      "0\n",
      "5.00000000000000\n",
      "31.0000000000000\n",
      "106.000000000000\n",
      "270.000000000000\n",
      "575.000000000000\n",
      "1085.00000000000\n",
      "1876.00000000000\n",
      "3036.00000000000\n"
     ]
    }
   ],
   "source": [
    "# imports\n",
    "from sympy import *\n",
    "import math\n",
    "\n",
    "n = symbols('n')\n",
    "x = symbols('x')\n",
    "\n",
    "# helper functions\n",
    "def generate_d_triangle(n): # return triangle of d_n^k values \n",
    "    triangle = [[1] * (i + 1) for i in range(n)]\n",
    "    \n",
    "    for i in range(2, n):\n",
    "        for j in range(1, i):\n",
    "            # triangle[i][j] = triangle[i - 1][j - 1] + triangle[i - 1][j]\n",
    "            triangle[i][j] = (i-j+1)*triangle[i - 1][j - 1] + (j+1)*triangle[i - 1][j] # series from generating funct. of type n^a*x^n \n",
    "    \n",
    "    return triangle\n",
    "\n",
    "# generating function for a_n = a_(n-1) + expr\n",
    "def produce_generating_function(expr):\n",
    "    initial_coefficients = Poly(expr.subs(n, Symbol('n')), Symbol('n')).all_coeffs()\n",
    "    print(initial_coefficients)\n",
    "\n",
    "    expression_fractal = initial_coefficients[len(initial_coefficients) - 1] * x / (1 - x)\n",
    "    triangle_diff = generate_d_triangle(len(initial_coefficients)-1)\n",
    "    for i in range(len(initial_coefficients)-1):\n",
    "        expr_i = 0\n",
    "        for j in range(i+1):\n",
    "            expr_i += triangle_diff[i][j]* x**(j+1)\n",
    "        expression_fractal += expr_i * (1/(1-x)**(i+2)) * initial_coefficients[len(initial_coefficients) - 2 - i]\n",
    "\n",
    "    expression_fractal = expression_fractal * (1/(1-x))\n",
    "    print(\"After Simplification : {}\".format(expression_fractal)) \n",
    "\n",
    "    # bring under one denominator\n",
    "    expr_combined = together(expression_fractal)\n",
    "    print(\"Combined Expression:\", expr_combined)\n",
    "\n",
    "    # partial fraction decomposition:\n",
    "    expr_partial_fraction = apart(expr_combined)\n",
    "    print(\"Partial Fraction Expansion:\", expr_partial_fraction)\n",
    "\n",
    "    parameters = []\n",
    "    for term in expr_partial_fraction.as_ordered_terms():\n",
    "        coeff, _ = term.as_independent(x)  # get coefficient independent of x\n",
    "        parameters.append(float(coeff))    # convert to numerical value\n",
    "\n",
    "    for i in range(len(parameters)):\n",
    "        if i % 2 == 0:\n",
    "            parameters[i] *= -1\n",
    "\n",
    "    print(parameters)\n",
    "\n",
    "    # construct generating function:\n",
    "    result = 0\n",
    "    for i in range(len(parameters)):\n",
    "        multiplier = parameters[i]/ math.factorial(i)\n",
    "        for j in range(i):\n",
    "            multiplier *= n + 1 + j\n",
    "        result += multiplier\n",
    "    return result\n",
    "\n",
    "\n",
    "expr = ((n-1)**2)*(2*n-2) + (2*n-1)*(2*n-2)*(1/2)\n",
    "generating_function = produce_generating_function(expr)\n",
    "print(produce_generating_function(expr))\n",
    "for j in range(10):\n",
    "    print(generating_function.subs(n, j))\n",
    "\n"
   ]
  },
  {
   "cell_type": "code",
   "execution_count": null,
   "metadata": {},
   "outputs": [],
   "source": []
  }
 ],
 "metadata": {
  "kernelspec": {
   "display_name": "Python 3",
   "language": "python",
   "name": "python3"
  },
  "language_info": {
   "codemirror_mode": {
    "name": "ipython",
    "version": 3
   },
   "file_extension": ".py",
   "mimetype": "text/x-python",
   "name": "python",
   "nbconvert_exporter": "python",
   "pygments_lexer": "ipython3",
   "version": "3.10.0"
  }
 },
 "nbformat": 4,
 "nbformat_minor": 2
}
