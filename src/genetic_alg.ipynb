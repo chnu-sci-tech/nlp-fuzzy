{
 "cells": [
  {
   "cell_type": "markdown",
   "metadata": {},
   "source": [
    "# Genetic algorithms application"
   ]
  },
  {
   "cell_type": "markdown",
   "metadata": {},
   "source": [
    "The population of individuals are maintained within Search Space. Each individual represents a solution in search space for given problem. Each individual is coded as a finite length vector of components - Chromosome. These variable components are analogous to Genes or Genome. Thus a chromosome (individual) is composed of several genes (variable components).\n",
    "\n",
    "A Fitness Score is given to each individual which shows the ability of an individual to “compete”. The individual having optimal fitness score (or near optimal) are sought.\n",
    "\n",
    "The GAs maintains the Population of n individuals (chromosome/solutions) along with their fitness scores.The individuals having better fitness scores are given more chance to reproduce than others. The individuals with better fitness scores are selected who mate and produce better offspring by combining chromosomes of parents.\n",
    "\n",
    "Each new generation has on average more “better genes” than the individual (solution) of previous generations. Thus each new generations have better “partial solutions” than previous generations.\n",
    "\n",
    "The Genetic Algorithm evolves the generation using following operators:\n",
    "\n",
    "1) Selection Operator: The idea is to give preference to the individuals with good fitness scores and allow them to pass their genes to successive generations.\n",
    "\n",
    "2) Crossover Operator: This represents mating between individuals. Two individuals are selected using selection operator and crossover sites are chosen randomly. Then the genes at these crossover sites are exchanged thus creating a completely new individual (offspring).\n",
    "\n",
    "3) Mutation Operator: The key idea is to insert random genes in offspring to maintain the diversity in the population to avoid premature convergence."
   ]
  },
  {
   "cell_type": "code",
   "execution_count": 11,
   "metadata": {},
   "outputs": [],
   "source": [
    "import numpy as np\n",
    "import skfuzzy as fuzz\n",
    "import matplotlib.pyplot as plt\n",
    "from skfuzzy import control as ctrl\n",
    "import pandas as pd\n",
    "from skimage.metrics import structural_similarity as ssim\n",
    "import imageio\n",
    "from datetime import datetime"
   ]
  },
  {
   "cell_type": "code",
   "execution_count": 12,
   "metadata": {},
   "outputs": [],
   "source": [
    "# ... and initialize parameters\n",
    "\n",
    "n_objects = 20\n",
    "max_weight = 3\n",
    "\n",
    "n_population = 100\n",
    "\n",
    "mutation_rate = 0.3"
   ]
  },
  {
   "cell_type": "code",
   "execution_count": 13,
   "metadata": {},
   "outputs": [
    {
     "data": {
      "text/plain": [
       "{'Water': [0.9, 74],\n",
       " 'Food': [0.4, 47],\n",
       " 'Pants': [0.6, 1],\n",
       " 'Socks': [0.7, 2],\n",
       " 'Boots': [0.4, 25],\n",
       " 'Shirts': [0.7, 79],\n",
       " 'Coat': [0.5, 28],\n",
       " 'Blanket': [0.9, 21],\n",
       " 'Laptop': [0.6, 17],\n",
       " 'Sleeping Bag': [0.1, 69],\n",
       " 'Cellphone': [0.3, 14],\n",
       " 'Book': [0.3, 19],\n",
       " 'Gloves': [0.5, 89],\n",
       " 'Towel': [0.8, 96],\n",
       " 'Sunscream': [0.9, 9],\n",
       " 'Glasses': [0.7, 60],\n",
       " 'Fork': [0.7, 42],\n",
       " 'Knife': [0.4, 97],\n",
       " 'Matches': [0.7, 49],\n",
       " 'Umbrella': [0.7, 53]}"
      ]
     },
     "execution_count": 13,
     "metadata": {},
     "output_type": "execute_result"
    }
   ],
   "source": [
    "# Generating a list of weights and values representing each item\n",
    "weight_value = [[x,y] for x,y in zip(np.random.randint(0,10,n_objects)/10,np.random.randint(0,100,n_objects))]\n",
    "object_list = np.array(['Water', 'Food', 'Pants', 'Socks', 'Boots', 'Shirts', 'Coat', 'Blanket', 'Laptop', 'Sleeping Bag', \\\n",
    "                        'Cellphone', 'Book', 'Gloves', 'Towel', 'Sunscream', 'Glasses', 'Fork', 'Knife', 'Matches', 'Umbrella'])\n",
    "objects_dict = { x:y for x,y in zip(object_list,weight_value)}\n",
    "\n",
    "def get_current_weight_value(objects_list, objects_dict):\n",
    "    weight = 0\n",
    "    value = 0\n",
    "    for o in objects_list:\n",
    "        o = objects_dict[o]\n",
    "        weight += o[0]\n",
    "        value += o[1]\n",
    "    return weight, value\n",
    "\n",
    "\n",
    "def s_print(obj_dict):\n",
    "    for item in set(obj_dict):\n",
    "      print(item)\n",
    "\n",
    "objects_dict"
   ]
  },
  {
   "cell_type": "markdown",
   "metadata": {},
   "source": [
    "### Create the first population set\n",
    "\n",
    "We randomly shuffle the items N times where N=population_size"
   ]
  },
  {
   "cell_type": "code",
   "execution_count": 14,
   "metadata": {},
   "outputs": [
    {
     "data": {
      "text/plain": [
       "array([list(['Shirts', 'Socks', 'Boots', 'Knife']),\n",
       "       list(['Coat', 'Laptop', 'Gloves', 'Towel']),\n",
       "       list(['Sleeping Bag', 'Blanket', 'Fork', 'Coat', 'Gloves']),\n",
       "       list(['Gloves', 'Glasses', 'Shirts', 'Fork', 'Cellphone']),\n",
       "       list(['Cellphone', 'Blanket', 'Book', 'Laptop', 'Gloves']),\n",
       "       list(['Shirts', 'Water', 'Towel', 'Food']),\n",
       "       list(['Coat', 'Gloves', 'Laptop', 'Boots', 'Matches', 'Book']),\n",
       "       list(['Socks', 'Towel', 'Glasses', 'Shirts']),\n",
       "       list(['Pants', 'Coat', 'Umbrella', 'Food']),\n",
       "       list(['Shirts', 'Blanket', 'Pants', 'Socks']),\n",
       "       list(['Cellphone', 'Shirts', 'Blanket', 'Laptop']),\n",
       "       list(['Glasses', 'Gloves', 'Towel', 'Cellphone', 'Laptop']),\n",
       "       list(['Cellphone', 'Socks', 'Knife', 'Blanket', 'Shirts']),\n",
       "       list(['Pants', 'Gloves', 'Shirts', 'Blanket', 'Cellphone']),\n",
       "       list(['Socks', 'Cellphone', 'Laptop', 'Water', 'Boots']),\n",
       "       list(['Shirts', 'Book', 'Matches', 'Pants', 'Coat']),\n",
       "       list(['Boots', 'Umbrella', 'Laptop', 'Water', 'Knife']),\n",
       "       list(['Towel', 'Matches', 'Book', 'Glasses']),\n",
       "       list(['Laptop', 'Coat', 'Knife', 'Food', 'Matches']),\n",
       "       list(['Towel', 'Shirts', 'Gloves', 'Pants', 'Sleeping Bag']),\n",
       "       list(['Pants', 'Sleeping Bag', 'Food', 'Fork', 'Blanket']),\n",
       "       list(['Socks', 'Knife', 'Boots', 'Shirts', 'Gloves']),\n",
       "       list(['Umbrella', 'Book', 'Food', 'Pants', 'Sleeping Bag', 'Cellphone']),\n",
       "       list(['Pants', 'Shirts', 'Gloves', 'Fork']),\n",
       "       list(['Umbrella', 'Water', 'Sunscream', 'Book']),\n",
       "       list(['Gloves', 'Boots', 'Socks', 'Umbrella', 'Cellphone']),\n",
       "       list(['Shirts', 'Laptop', 'Fork', 'Blanket']),\n",
       "       list(['Book', 'Towel', 'Boots', 'Matches', 'Cellphone']),\n",
       "       list(['Coat', 'Shirts', 'Blanket', 'Glasses']),\n",
       "       list(['Cellphone', 'Blanket', 'Gloves', 'Laptop', 'Knife']),\n",
       "       list(['Food', 'Socks', 'Water', 'Sleeping Bag', 'Blanket']),\n",
       "       list(['Gloves', 'Fork', 'Sunscream', 'Food', 'Boots']),\n",
       "       list(['Blanket', 'Umbrella', 'Socks', 'Boots']),\n",
       "       list(['Sunscream', 'Boots', 'Glasses', 'Pants', 'Knife']),\n",
       "       list(['Gloves', 'Umbrella', 'Water', 'Glasses']),\n",
       "       list(['Laptop', 'Gloves', 'Sleeping Bag', 'Water', 'Glasses']),\n",
       "       list(['Towel', 'Knife', 'Boots', 'Shirts', 'Matches']),\n",
       "       list(['Water', 'Shirts', 'Knife', 'Glasses']),\n",
       "       list(['Cellphone', 'Sunscream', 'Towel', 'Gloves']),\n",
       "       list(['Sleeping Bag', 'Laptop', 'Knife', 'Cellphone', 'Boots', 'Sunscream']),\n",
       "       list(['Towel', 'Cellphone', 'Boots', 'Laptop', 'Umbrella']),\n",
       "       list(['Coat', 'Umbrella', 'Book', 'Food', 'Pants', 'Boots']),\n",
       "       list(['Cellphone', 'Blanket', 'Coat', 'Water', 'Boots']),\n",
       "       list(['Sleeping Bag', 'Water', 'Socks', 'Fork', 'Book']),\n",
       "       list(['Socks', 'Glasses', 'Sleeping Bag', 'Towel', 'Coat']),\n",
       "       list(['Shirts', 'Book', 'Sleeping Bag', 'Gloves', 'Blanket']),\n",
       "       list(['Towel', 'Boots', 'Blanket', 'Sunscream']),\n",
       "       list(['Boots', 'Shirts', 'Book', 'Blanket', 'Coat']),\n",
       "       list(['Socks', 'Matches', 'Blanket', 'Book']),\n",
       "       list(['Boots', 'Shirts', 'Book', 'Matches', 'Socks']),\n",
       "       list(['Coat', 'Glasses', 'Shirts', 'Cellphone', 'Book']),\n",
       "       list(['Boots', 'Gloves', 'Blanket', 'Laptop', 'Sleeping Bag']),\n",
       "       list(['Knife', 'Coat', 'Laptop', 'Matches']),\n",
       "       list(['Food', 'Socks', 'Laptop', 'Blanket']),\n",
       "       list(['Food', 'Knife', 'Socks', 'Towel', 'Sleeping Bag']),\n",
       "       list(['Coat', 'Sleeping Bag', 'Knife', 'Glasses', 'Laptop', 'Shirts']),\n",
       "       list(['Gloves', 'Water', 'Glasses', 'Book']),\n",
       "       list(['Cellphone', 'Sunscream', 'Coat', 'Water']),\n",
       "       list(['Knife', 'Shirts', 'Glasses', 'Water', 'Book']),\n",
       "       list(['Sunscream', 'Pants', 'Blanket', 'Boots']),\n",
       "       list(['Coat', 'Cellphone', 'Umbrella', 'Shirts', 'Gloves', 'Sleeping Bag']),\n",
       "       list(['Fork', 'Shirts', 'Blanket', 'Gloves']),\n",
       "       list(['Coat', 'Gloves', 'Sleeping Bag', 'Pants', 'Blanket', 'Knife']),\n",
       "       list(['Shirts', 'Gloves', 'Laptop', 'Socks']),\n",
       "       list(['Cellphone', 'Coat', 'Fork', 'Umbrella']),\n",
       "       list(['Socks', 'Fork', 'Gloves', 'Towel']),\n",
       "       list(['Laptop', 'Knife', 'Glasses', 'Coat', 'Food', 'Sleeping Bag', 'Cellphone']),\n",
       "       list(['Cellphone', 'Pants', 'Towel', 'Glasses', 'Laptop']),\n",
       "       list(['Coat', 'Socks', 'Glasses', 'Cellphone', 'Shirts']),\n",
       "       list(['Blanket', 'Glasses', 'Matches', 'Gloves']),\n",
       "       list(['Sunscream', 'Water', 'Shirts']),\n",
       "       list(['Shirts', 'Cellphone', 'Fork', 'Sleeping Bag', 'Glasses']),\n",
       "       list(['Shirts', 'Coat', 'Boots', 'Food', 'Matches']),\n",
       "       list(['Laptop', 'Pants', 'Matches', 'Coat', 'Boots']),\n",
       "       list(['Cellphone', 'Coat', 'Gloves', 'Matches', 'Glasses']),\n",
       "       list(['Pants', 'Fork', 'Matches', 'Cellphone', 'Boots', 'Book']),\n",
       "       list(['Knife', 'Gloves', 'Socks', 'Sunscream', 'Food', 'Sleeping Bag']),\n",
       "       list(['Water', 'Glasses', 'Coat', 'Socks']),\n",
       "       list(['Gloves', 'Pants', 'Laptop', 'Sunscream']),\n",
       "       list(['Blanket', 'Pants', 'Cellphone', 'Boots', 'Matches']),\n",
       "       list(['Gloves', 'Shirts', 'Pants', 'Blanket']),\n",
       "       list(['Shirts', 'Book', 'Gloves', 'Food', 'Knife', 'Socks']),\n",
       "       list(['Blanket', 'Towel', 'Cellphone', 'Pants']),\n",
       "       list(['Shirts', 'Blanket', 'Umbrella']),\n",
       "       list(['Cellphone', 'Glasses', 'Towel', 'Boots', 'Sleeping Bag', 'Food']),\n",
       "       list(['Boots', 'Towel', 'Food', 'Coat', 'Cellphone']),\n",
       "       list(['Socks', 'Knife', 'Book', 'Fork', 'Cellphone', 'Pants']),\n",
       "       list(['Coat', 'Cellphone', 'Towel', 'Book', 'Sleeping Bag', 'Water']),\n",
       "       list(['Umbrella', 'Glasses', 'Coat', 'Fork']),\n",
       "       list(['Coat', 'Laptop', 'Blanket', 'Sunscream', 'Sleeping Bag']),\n",
       "       list(['Water', 'Shirts', 'Fork']),\n",
       "       list(['Food', 'Cellphone', 'Shirts', 'Towel', 'Gloves']),\n",
       "       list(['Sleeping Bag', 'Glasses', 'Food', 'Shirts', 'Coat']),\n",
       "       list(['Towel', 'Sleeping Bag', 'Coat', 'Glasses', 'Food']),\n",
       "       list(['Umbrella', 'Book', 'Pants', 'Knife', 'Blanket']),\n",
       "       list(['Knife', 'Blanket', 'Matches', 'Towel']),\n",
       "       list(['Umbrella', 'Knife', 'Water', 'Fork']),\n",
       "       list(['Shirts', 'Sleeping Bag', 'Sunscream', 'Socks', 'Coat']),\n",
       "       list(['Umbrella', 'Food', 'Blanket', 'Cellphone', 'Sleeping Bag', 'Coat']),\n",
       "       list(['Towel', 'Pants', 'Laptop', 'Blanket'])], dtype=object)"
      ]
     },
     "execution_count": 14,
     "metadata": {},
     "output_type": "execute_result"
    }
   ],
   "source": [
    "# First step: Create the first population set\n",
    "def fit_in_knapsack(objects_list, max_weight, objects_dict):\n",
    "    r = []\n",
    "    for o in objects_list:\n",
    "        r.append(o)\n",
    "        # Check if count(item) > 1\n",
    "        for item in r:\n",
    "          flag = r.count(item) > 1\n",
    "        weight, value = get_current_weight_value(r, objects_dict)\n",
    "        if (weight > max_weight) or flag:\n",
    "            r.pop()\n",
    "            return r\n",
    "    return r\n",
    "\n",
    "def genesis(object_list, n_population, max_weight, objects_dict):\n",
    "\n",
    "    population_set = []\n",
    "    for i in range(n_population):\n",
    "        #Randomly generating a new solution\n",
    "        sol_i = object_list[np.random.choice(list(range(n_objects)), n_objects, replace=False)]\n",
    "        sol_i = fit_in_knapsack(sol_i, max_weight, objects_dict)\n",
    "        population_set.append(sol_i)\n",
    "    return np.array(population_set, dtype=object)\n",
    "\n",
    "population_set = genesis(object_list, n_population, max_weight, objects_dict)\n",
    "population_set"
   ]
  },
  {
   "cell_type": "markdown",
   "metadata": {},
   "source": [
    "### Selection\n",
    "\n",
    "From each generation, a few individuals are selected based on their fitness scores. These fitness scores are calculated for each individual based on an objective function. This function is based on the problem statement for which the Genetic Algorithm is being used and indicates an individual’s quality.\n",
    "\n",
    "This fitness score of an individual is an indication of how suitable the respective candidate is for the problem. For each successive generation, a portion of the current population with relatively higher fitness scores is allowed to move to the next iteration. Various schemes such as tournament selection, rank-based selection, roulette wheel selection, elitism selection, etc may be used in the selection stage.\n",
    "\n",
    "Fitness Function: The fitness function that we use here takes input from the chromosome sequence and the values of the individual items. It then returns the profit by calculating the dot product of the two input vectors.\n",
    "\n",
    "Parent Selection: For this, we may use the approach of deterministic tournament selection. In this method, we randomly select two individuals from the population and choose the one with higher fitness. We may observe cases where both individuals have low fitness scores, but they still might contribute to choosing the correct genetic sequence. This type of parent selection results in 50% of the population moving to the next stage. To increase the preference for higher fitness, we may include more than two individuals for consideration in the tournament."
   ]
  },
  {
   "cell_type": "markdown",
   "metadata": {},
   "source": [
    "### Evaluate solutions fitness\n",
    "\n",
    "The solutions are defined so that the first element on the list is the first item to take, then the second, etc. The fitness function needs to compute the total weight of the backpack."
   ]
  },
  {
   "cell_type": "code",
   "execution_count": 15,
   "metadata": {},
   "outputs": [
    {
     "data": {
      "text/plain": [
       "array([203., 230., 249., 284., 160., 296., 227., 237., 129., 103., 131.,\n",
       "       276., 213., 204., 132., 176., 266., 224., 238., 334., 180., 292.,\n",
       "       203., 211., 155., 183., 159., 203., 188., 238., 213., 212., 101.,\n",
       "       192., 276., 309., 346., 310., 208., 231., 205., 173., 162., 206.,\n",
       "       255., 277., 151., 172.,  91., 174., 200., 221., 191.,  87., 311.,\n",
       "       350., 242., 125., 329.,  56., 332., 231., 305., 187., 137., 229.,\n",
       "       332., 188., 183., 219., 162., 264., 228., 120., 240., 150., 313.,\n",
       "       164., 116., 110., 190., 333., 132., 153., 311., 210., 175., 300.,\n",
       "       183., 144., 195., 325., 283., 300., 191., 263., 266., 187., 232.,\n",
       "       135.])"
      ]
     },
     "execution_count": 15,
     "metadata": {},
     "output_type": "execute_result"
    }
   ],
   "source": [
    "def get_all_fitnes(population_set, objects_dict):\n",
    "    fitnes_list = np.zeros(n_population)\n",
    "\n",
    "    #Looping over all solutions computing the fitness for each solution\n",
    "    for i in  range(n_population):\n",
    "        _, fitnes_list[i] = get_current_weight_value(population_set[i], objects_dict)\n",
    "\n",
    "    return fitnes_list\n",
    "\n",
    "fitnes_list = get_all_fitnes(population_set,objects_dict)\n",
    "fitnes_list"
   ]
  },
  {
   "cell_type": "markdown",
   "metadata": {},
   "source": [
    "### Progenitors selection\n",
    "\n",
    "We will select a new set of progenitors using the Roulette Wheel Selection. Generates a list of progenitor pairs where N = len(population_set) but at each position there are two solutions to merge"
   ]
  },
  {
   "cell_type": "code",
   "execution_count": 16,
   "metadata": {},
   "outputs": [],
   "source": [
    "def progenitor_selection(population_set,fitnes_list):\n",
    "    total_fit = fitnes_list.sum()\n",
    "    prob_list = fitnes_list/total_fit\n",
    "\n",
    "    #Notice there is not (of False) a chance that a progenitor. mates with oneself\n",
    "    progenitor_list_a = np.random.choice(list(range(len(population_set))), len(population_set),p=prob_list, replace=False)\n",
    "    progenitor_list_b = np.random.choice(list(range(len(population_set))), len(population_set),p=prob_list, replace=False)\n",
    "\n",
    "    progenitor_list_a = population_set[progenitor_list_a]\n",
    "    progenitor_list_b = population_set[progenitor_list_b]\n",
    "\n",
    "\n",
    "    return np.array([progenitor_list_a,progenitor_list_b])\n",
    "\n",
    "\n",
    "progenitor_list = progenitor_selection(population_set,fitnes_list)\n",
    "#progenitor_list[0][2]"
   ]
  },
  {
   "cell_type": "markdown",
   "metadata": {},
   "source": [
    "### Recombination\n",
    "\n",
    "This is an essential phase of the Algorithm and involves the creation of a new generation from the current population of the selected individuals. Each individual in the new generation is a result of a crossover operation on a pair of “parent” solutions from the pool of selected individuals.\n",
    "\n",
    "The new individual created contains traits from both parents based on the Crossover scheme used. The crossover operation is applied over selected individuals using one of the schemes mentioned previously. This results in a completely new population (also called as Children Population).\n",
    "\n",
    "For each pair of parents we'll generate an offspring pair. Since we cannot repeat items what we'll do is copy a random chunk from one progenitor and fill the blanks with the other progenitor."
   ]
  },
  {
   "cell_type": "code",
   "execution_count": 17,
   "metadata": {},
   "outputs": [
    {
     "data": {
      "text/plain": [
       "['Shirts', 'Coat', 'Socks', 'Cellphone', 'Boots', 'Knife']"
      ]
     },
     "execution_count": 17,
     "metadata": {},
     "output_type": "execute_result"
    }
   ],
   "source": [
    "def mate_progenitors(prog_a, prog_b, max_weight, objects_dict):\n",
    "    offspring = []\n",
    "\n",
    "    for i in zip(prog_a, prog_b):\n",
    "        offspring.extend(i)\n",
    "        offspring = list(dict.fromkeys(offspring)) #Removing duplicates\n",
    "        offspring = fit_in_knapsack(offspring, max_weight, objects_dict)\n",
    "\n",
    "    return offspring\n",
    "\n",
    "\n",
    "\n",
    "def mate_population(progenitor_list, max_weight, objects_dict):\n",
    "    new_population_set = []\n",
    "    for i in range(progenitor_list.shape[1]):\n",
    "        prog_a, prog_b = progenitor_list[0][i], progenitor_list[1][i]\n",
    "        offspring = mate_progenitors(prog_a, prog_b, max_weight, objects_dict)\n",
    "        new_population_set.append(offspring)\n",
    "\n",
    "    return new_population_set\n",
    "\n",
    "new_population_set = mate_population(progenitor_list, max_weight, objects_dict)\n",
    "new_population_set[0]"
   ]
  },
  {
   "cell_type": "markdown",
   "metadata": {},
   "source": [
    "### Mutation\n",
    "\n",
    "This operation is used to create more genetic diversity in a generation. It alters one or more values from the chromosome, resulting in a completely new genome. This often helps avoid premature convergence.\n",
    "\n",
    "This is analogous to biological mutation and alters the chromosomes of the children using one or more schemes such as bit-flip mutation, swap mutation, scramble mutation, etc. In simple terms, mutation may be defined as a small random tweak in the chromosomes, to get a new solution.\n",
    "\n",
    "Now for each element of the new population we add a random chance of swapping"
   ]
  },
  {
   "cell_type": "code",
   "execution_count": 18,
   "metadata": {},
   "outputs": [
    {
     "data": {
      "text/plain": [
       "['Shirts', 'Coat', 'Socks', 'Cellphone', 'Laptop']"
      ]
     },
     "execution_count": 18,
     "metadata": {},
     "output_type": "execute_result"
    }
   ],
   "source": [
    "def mutate_offspring(offspring, max_weight, object_list, objects_dict):\n",
    "    for mutation_number in range(int(len(offspring)*mutation_rate)):\n",
    "\n",
    "        a = np.random.randint(0,len(object_list))\n",
    "        b = np.random.randint(0,len(offspring))\n",
    "\n",
    "        offspring.insert(b, object_list[a])\n",
    "\n",
    "    offspring = fit_in_knapsack(offspring, max_weight, objects_dict)\n",
    "\n",
    "    return offspring\n",
    "\n",
    "\n",
    "def mutate_population(new_population_set, max_weight, object_list, objects_dict):\n",
    "    mutated_pop = []\n",
    "    for offspring in new_population_set:\n",
    "        mutated_pop.append(mutate_offspring(offspring, max_weight, object_list, objects_dict))\n",
    "    return mutated_pop\n",
    "\n",
    "mutated_pop = mutate_population(new_population_set, max_weight,object_list, objects_dict)\n",
    "mutated_pop[0]"
   ]
  },
  {
   "cell_type": "markdown",
   "metadata": {},
   "source": [
    "### Termination\n",
    "\n",
    "The loop is terminated when either of the following conditions is met:\n",
    "\n",
    "- A solution is obtained that satisfies a Threshold fitness.\n",
    "- The maximum number of generations specified has been processed.\n",
    "- The allocated computation budget is consumed.\n",
    "- The best fitness for the new generation does not show any significant improvement and seems to have converged at a point.\n",
    "\n",
    "To select the stopping criteria we'll need to create a loop to stop first. Then we'll set it to loop at 1000 iterations."
   ]
  },
  {
   "cell_type": "code",
   "execution_count": 19,
   "metadata": {},
   "outputs": [
    {
     "name": "stdout",
     "output_type": "stream",
     "text": [
      "0 56.0 214.18 24/12/24 17:26\n",
      "100 18.0 197.22 24/12/24 17:26\n",
      "200 11.0 203.02 24/12/24 17:26\n",
      "300 2.0 212.06 24/12/24 17:26\n",
      "400 28.0 198.5 24/12/24 17:26\n",
      "500 30.0 198.37 24/12/24 17:26\n",
      "600 9.0 206.85 24/12/24 17:26\n",
      "700 35.0 197.43 24/12/24 17:26\n",
      "800 16.0 188.34 24/12/24 17:26\n",
      "900 16.0 199.36 24/12/24 17:26\n",
      "1000 16.0 197.15 24/12/24 17:26\n",
      "1100 23.0 206.55 24/12/24 17:26\n",
      "1200 14.0 200.9 24/12/24 17:26\n",
      "1300 2.0 195.24 24/12/24 17:26\n",
      "1400 14.0 198.88 24/12/24 17:26\n",
      "1500 1.0 199.37 24/12/24 17:26\n",
      "1600 1.0 205.71 24/12/24 17:26\n",
      "1700 23.0 201.64 24/12/24 17:26\n",
      "1800 2.0 203.87 24/12/24 17:26\n",
      "1900 9.0 193.32 24/12/24 17:26\n",
      "2000 30.0 207.8 24/12/24 17:26\n",
      "2100 2.0 202.74 24/12/24 17:27\n",
      "2200 14.0 199.12 24/12/24 17:27\n",
      "2300 15.0 200.32 24/12/24 17:27\n",
      "2400 42.0 207.32 24/12/24 17:27\n",
      "2500 1.0 198.41 24/12/24 17:27\n",
      "2600 44.0 198.46 24/12/24 17:27\n",
      "2700 3.0 189.75 24/12/24 17:27\n",
      "2800 14.0 201.75 24/12/24 17:27\n",
      "2900 17.0 204.88 24/12/24 17:27\n",
      "3000 24.0 198.98 24/12/24 17:27\n",
      "3100 1.0 200.86 24/12/24 17:27\n",
      "3200 19.0 206.76 24/12/24 17:27\n",
      "3300 53.0 200.69 24/12/24 17:27\n",
      "3400 2.0 202.56 24/12/24 17:27\n",
      "3500 2.0 210.97 24/12/24 17:27\n",
      "3600 1.0 204.94 24/12/24 17:27\n",
      "3700 14.0 200.07 24/12/24 17:27\n",
      "3800 1.0 199.13 24/12/24 17:27\n",
      "3900 26.0 205.4 24/12/24 17:27\n",
      "4000 15.0 197.22 24/12/24 17:27\n",
      "4100 28.0 198.56 24/12/24 17:27\n",
      "4200 26.0 208.5 24/12/24 17:27\n",
      "4300 17.0 197.93 24/12/24 17:27\n",
      "4400 14.0 198.53 24/12/24 17:27\n",
      "4500 2.0 196.31 24/12/24 17:27\n",
      "4600 18.0 199.12 24/12/24 17:27\n",
      "4700 35.0 206.11 24/12/24 17:27\n",
      "4800 19.0 203.34 24/12/24 17:27\n",
      "4900 37.0 198.36 24/12/24 17:27\n",
      "5000 16.0 192.05 24/12/24 17:27\n",
      "5100 26.0 196.38 24/12/24 17:27\n",
      "5200 21.0 200.47 24/12/24 17:27\n",
      "5300 26.0 202.23 24/12/24 17:27\n",
      "5400 2.0 199.49 24/12/24 17:27\n",
      "5500 16.0 198.55 24/12/24 17:27\n",
      "5600 31.0 194.0 24/12/24 17:27\n",
      "5700 14.0 209.75 24/12/24 17:27\n",
      "5800 14.0 204.15 24/12/24 17:27\n",
      "5900 30.0 207.7 24/12/24 17:27\n",
      "6000 23.0 197.99 24/12/24 17:27\n",
      "6100 25.0 202.39 24/12/24 17:27\n",
      "6200 30.0 204.94 24/12/24 17:27\n",
      "6300 2.0 190.78 24/12/24 17:27\n",
      "6400 17.0 201.22 24/12/24 17:27\n",
      "6500 28.0 204.67 24/12/24 17:27\n",
      "6600 42.0 210.9 24/12/24 17:27\n",
      "6700 31.0 204.76 24/12/24 17:27\n",
      "6800 14.0 196.77 24/12/24 17:27\n",
      "6900 2.0 196.5 24/12/24 17:27\n",
      "7000 21.0 209.81 24/12/24 17:27\n",
      "7100 9.0 207.62 24/12/24 17:27\n",
      "7200 25.0 205.81 24/12/24 17:27\n",
      "7300 1.0 195.89 24/12/24 17:27\n",
      "7400 28.0 197.09 24/12/24 17:27\n",
      "7500 26.0 192.45 24/12/24 17:27\n",
      "7600 26.0 204.33 24/12/24 17:27\n",
      "7700 34.0 214.88 24/12/24 17:27\n",
      "7800 37.0 197.18 24/12/24 17:27\n",
      "7900 23.0 208.64 24/12/24 17:27\n",
      "8000 45.0 205.58 24/12/24 17:27\n",
      "8100 9.0 202.99 24/12/24 17:27\n",
      "8200 9.0 199.16 24/12/24 17:27\n",
      "8300 16.0 196.18 24/12/24 17:27\n",
      "8400 38.0 209.28 24/12/24 17:27\n",
      "8500 2.0 210.59 24/12/24 17:27\n",
      "8600 14.0 198.36 24/12/24 17:27\n",
      "8700 2.0 199.62 24/12/24 17:27\n",
      "8800 10.0 196.83 24/12/24 17:27\n",
      "8900 61.0 198.93 24/12/24 17:27\n",
      "9000 26.0 203.05 24/12/24 17:27\n",
      "9100 21.0 201.93 24/12/24 17:27\n",
      "9200 1.0 207.72 24/12/24 17:27\n",
      "9300 3.0 197.15 24/12/24 17:27\n",
      "9400 28.0 199.53 24/12/24 17:27\n",
      "9500 14.0 190.89 24/12/24 17:27\n",
      "9600 15.0 212.95 24/12/24 17:27\n",
      "9700 21.0 192.04 24/12/24 17:27\n",
      "9800 42.0 199.16 24/12/24 17:27\n",
      "9900 42.0 200.19 24/12/24 17:27\n"
     ]
    }
   ],
   "source": [
    "best_solution = [-1,-np.inf,np.array([], dtype=object)]\n",
    "for i in range(10000):\n",
    "    if i%100==0: print(i, fitnes_list.min(), fitnes_list.mean(), datetime.now().strftime(\"%d/%m/%y %H:%M\"))\n",
    "    fitnes_list = get_all_fitnes(mutated_pop,objects_dict)\n",
    "\n",
    "    #Saving the best solution\n",
    "    if fitnes_list.max() > best_solution[1]:\n",
    "        best_solution[0] = i\n",
    "        best_solution[1] = fitnes_list.max()\n",
    "        best_solution[2] = np.array(mutated_pop, dtype=object)[fitnes_list.max() == fitnes_list]\n",
    "\n",
    "    progenitor_list = progenitor_selection(population_set,fitnes_list)\n",
    "    new_population_set = mate_population(progenitor_list, max_weight, objects_dict)\n",
    "\n",
    "    mutated_pop = mutate_population(new_population_set, max_weight,object_list, objects_dict)"
   ]
  },
  {
   "cell_type": "code",
   "execution_count": 20,
   "metadata": {},
   "outputs": [
    {
     "name": "stdout",
     "output_type": "stream",
     "text": [
      "['Towel', 'Food', 'Shirts', 'Knife', 'Gloves', 'Sleeping Bag']\n"
     ]
    }
   ],
   "source": [
    "get_current_weight_value(best_solution[2][0], objects_dict)\n",
    "print(best_solution[2][0])"
   ]
  }
 ],
 "metadata": {
  "kernelspec": {
   "display_name": "Python 3",
   "language": "python",
   "name": "python3"
  },
  "language_info": {
   "codemirror_mode": {
    "name": "ipython",
    "version": 3
   },
   "file_extension": ".py",
   "mimetype": "text/x-python",
   "name": "python",
   "nbconvert_exporter": "python",
   "pygments_lexer": "ipython3",
   "version": "3.10.0"
  }
 },
 "nbformat": 4,
 "nbformat_minor": 2
}
