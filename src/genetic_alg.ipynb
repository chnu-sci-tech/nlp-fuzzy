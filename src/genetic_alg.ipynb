{
 "cells": [
  {
   "cell_type": "markdown",
   "metadata": {},
   "source": [
    "# Genetic algorithms application"
   ]
  },
  {
   "cell_type": "markdown",
   "metadata": {},
   "source": [
    "The population of individuals are maintained within Search Space. Each individual represents a solution in search space for given problem. Each individual is coded as a finite length vector of components - Chromosome. These variable components are analogous to Genes or Genome. Thus a chromosome (individual) is composed of several genes (variable components).\n",
    "\n",
    "A Fitness Score is given to each individual which shows the ability of an individual to “compete”. The individual having optimal fitness score (or near optimal) are sought.\n",
    "\n",
    "The GAs maintains the Population of n individuals (chromosome/solutions) along with their fitness scores.The individuals having better fitness scores are given more chance to reproduce than others. The individuals with better fitness scores are selected who mate and produce better offspring by combining chromosomes of parents.\n",
    "\n",
    "Each new generation has on average more “better genes” than the individual (solution) of previous generations. Thus each new generations have better “partial solutions” than previous generations.\n",
    "\n",
    "The Genetic Algorithm evolves the generation using following operators:\n",
    "\n",
    "1) Selection Operator: The idea is to give preference to the individuals with good fitness scores and allow them to pass their genes to successive generations.\n",
    "\n",
    "2) Crossover Operator: This represents mating between individuals. Two individuals are selected using selection operator and crossover sites are chosen randomly. Then the genes at these crossover sites are exchanged thus creating a completely new individual (offspring).\n",
    "\n",
    "3) Mutation Operator: The key idea is to insert random genes in offspring to maintain the diversity in the population to avoid premature convergence."
   ]
  },
  {
   "cell_type": "code",
   "execution_count": 3,
   "metadata": {},
   "outputs": [],
   "source": [
    "import numpy as np\n",
    "import skfuzzy as fuzz\n",
    "import matplotlib.pyplot as plt\n",
    "from skfuzzy import control as ctrl\n",
    "import pandas as pd\n",
    "from skimage.metrics import structural_similarity as ssim\n",
    "import imageio\n",
    "from datetime import datetime"
   ]
  },
  {
   "cell_type": "code",
   "execution_count": 4,
   "metadata": {},
   "outputs": [],
   "source": [
    "# ... and initialize parameters\n",
    "\n",
    "n_objects = 20\n",
    "max_weight = 3\n",
    "\n",
    "n_population = 100\n",
    "\n",
    "mutation_rate = 0.3"
   ]
  },
  {
   "cell_type": "code",
   "execution_count": 5,
   "metadata": {},
   "outputs": [
    {
     "data": {
      "text/plain": [
       "{'Water': [0.2, 3],\n",
       " 'Food': [0.9, 76],\n",
       " 'Pants': [0.3, 24],\n",
       " 'Socks': [0.4, 39],\n",
       " 'Boots': [0.5, 33],\n",
       " 'Shirts': [0.2, 33],\n",
       " 'Coat': [0.5, 22],\n",
       " 'Blanket': [0.5, 49],\n",
       " 'Laptop': [0.5, 8],\n",
       " 'Sleeping Bag': [0.7, 58],\n",
       " 'Cellphone': [0.0, 7],\n",
       " 'Book': [0.4, 19],\n",
       " 'Gloves': [0.0, 61],\n",
       " 'Towel': [0.1, 82],\n",
       " 'Sunscream': [0.9, 74],\n",
       " 'Glasses': [0.2, 39],\n",
       " 'Fork': [0.6, 65],\n",
       " 'Knife': [0.4, 62],\n",
       " 'Matches': [0.8, 31],\n",
       " 'Umbrella': [0.6, 15]}"
      ]
     },
     "execution_count": 5,
     "metadata": {},
     "output_type": "execute_result"
    }
   ],
   "source": [
    "# Generating a list of weights and values representing each item\n",
    "weight_value = [[x,y] for x,y in zip(np.random.randint(0,10,n_objects)/10,np.random.randint(0,100,n_objects))]\n",
    "object_list = np.array(['Water', 'Food', 'Pants', 'Socks', 'Boots', 'Shirts', 'Coat', 'Blanket', 'Laptop', 'Sleeping Bag', \\\n",
    "                        'Cellphone', 'Book', 'Gloves', 'Towel', 'Sunscream', 'Glasses', 'Fork', 'Knife', 'Matches', 'Umbrella'])\n",
    "objects_dict = { x:y for x,y in zip(object_list,weight_value)}\n",
    "\n",
    "def get_current_weight_value(objects_list, objects_dict):\n",
    "    weight = 0\n",
    "    value = 0\n",
    "    for o in objects_list:\n",
    "        o = objects_dict[o]\n",
    "        weight += o[0]\n",
    "        value += o[1]\n",
    "    return weight, value\n",
    "\n",
    "\n",
    "def s_print(obj_dict):\n",
    "    for item in set(obj_dict):\n",
    "      print(item)\n",
    "\n",
    "objects_dict"
   ]
  },
  {
   "cell_type": "markdown",
   "metadata": {},
   "source": [
    "### Create the first population set\n",
    "\n",
    "We randomly shuffle the items N times where N=population_size"
   ]
  },
  {
   "cell_type": "code",
   "execution_count": 6,
   "metadata": {},
   "outputs": [
    {
     "data": {
      "text/plain": [
       "array([list(['Umbrella', 'Sleeping Bag', 'Boots', 'Water', 'Glasses', 'Fork']),\n",
       "       list(['Umbrella', 'Glasses', 'Sleeping Bag', 'Knife', 'Fork', 'Socks', 'Cellphone']),\n",
       "       list(['Blanket', 'Glasses', 'Book', 'Towel', 'Socks', 'Fork', 'Sleeping Bag']),\n",
       "       list(['Sleeping Bag', 'Laptop', 'Book', 'Cellphone', 'Knife', 'Fork', 'Water']),\n",
       "       list(['Pants', 'Towel', 'Knife', 'Fork', 'Food', 'Glasses']),\n",
       "       list(['Gloves', 'Fork', 'Shirts', 'Glasses', 'Pants', 'Cellphone', 'Coat', 'Socks', 'Blanket']),\n",
       "       list(['Matches', 'Water', 'Laptop', 'Cellphone', 'Pants', 'Coat', 'Shirts']),\n",
       "       list(['Glasses', 'Sunscream', 'Knife', 'Boots', 'Book', 'Water']),\n",
       "       list(['Cellphone', 'Food', 'Sunscream', 'Gloves', 'Water', 'Blanket', 'Book']),\n",
       "       list(['Book', 'Boots', 'Knife', 'Socks', 'Food']),\n",
       "       list(['Food', 'Coat', 'Towel', 'Boots', 'Sleeping Bag']),\n",
       "       list(['Knife', 'Coat', 'Laptop', 'Boots', 'Book']),\n",
       "       list(['Book', 'Umbrella', 'Sunscream', 'Cellphone', 'Boots', 'Knife']),\n",
       "       list(['Fork', 'Socks', 'Shirts', 'Sleeping Bag', 'Matches', 'Pants']),\n",
       "       list(['Gloves', 'Sunscream', 'Fork', 'Cellphone', 'Umbrella', 'Boots', 'Shirts']),\n",
       "       list(['Socks', 'Matches', 'Boots', 'Book', 'Shirts', 'Water']),\n",
       "       list(['Boots', 'Blanket', 'Fork', 'Gloves', 'Pants', 'Food']),\n",
       "       list(['Boots', 'Blanket', 'Food', 'Cellphone', 'Sunscream']),\n",
       "       list(['Glasses', 'Food', 'Matches', 'Shirts', 'Gloves', 'Coat', 'Pants', 'Towel']),\n",
       "       list(['Pants', 'Socks', 'Glasses', 'Laptop', 'Coat', 'Book', 'Knife', 'Shirts']),\n",
       "       list(['Glasses', 'Fork', 'Cellphone', 'Matches', 'Book', 'Knife']),\n",
       "       list(['Fork', 'Towel', 'Sleeping Bag', 'Shirts', 'Knife', 'Pants', 'Cellphone', 'Book']),\n",
       "       list(['Pants', 'Umbrella', 'Water', 'Towel', 'Book', 'Boots', 'Matches', 'Gloves']),\n",
       "       list(['Socks', 'Water', 'Coat', 'Laptop', 'Book', 'Matches']),\n",
       "       list(['Coat', 'Knife', 'Blanket', 'Boots', 'Book']),\n",
       "       list(['Sleeping Bag', 'Gloves', 'Food', 'Water', 'Socks', 'Pants']),\n",
       "       list(['Fork', 'Blanket', 'Laptop', 'Socks', 'Book', 'Water', 'Pants']),\n",
       "       list(['Shirts', 'Fork', 'Book', 'Laptop', 'Glasses', 'Sleeping Bag', 'Water']),\n",
       "       list(['Matches', 'Fork', 'Book', 'Socks', 'Towel', 'Coat']),\n",
       "       list(['Pants', 'Matches', 'Blanket', 'Glasses', 'Fork', 'Book']),\n",
       "       list(['Sunscream', 'Book', 'Coat', 'Pants', 'Towel', 'Boots', 'Cellphone', 'Gloves']),\n",
       "       list(['Sunscream', 'Blanket', 'Pants', 'Towel', 'Sleeping Bag', 'Glasses', 'Gloves']),\n",
       "       list(['Knife', 'Sunscream', 'Glasses', 'Pants', 'Gloves', 'Book', 'Shirts']),\n",
       "       list(['Pants', 'Matches', 'Coat', 'Socks', 'Umbrella', 'Towel']),\n",
       "       list(['Umbrella', 'Towel', 'Gloves', 'Cellphone', 'Food', 'Knife', 'Boots', 'Glasses']),\n",
       "       list(['Blanket', 'Coat', 'Towel', 'Book', 'Knife', 'Umbrella']),\n",
       "       list(['Food', 'Socks', 'Gloves', 'Umbrella', 'Boots', 'Book']),\n",
       "       list(['Umbrella', 'Sunscream', 'Socks', 'Shirts', 'Matches']),\n",
       "       list(['Coat', 'Towel', 'Water', 'Cellphone', 'Blanket', 'Knife', 'Fork', 'Shirts']),\n",
       "       list(['Shirts', 'Pants', 'Boots', 'Food', 'Sunscream']),\n",
       "       list(['Sleeping Bag', 'Book', 'Laptop', 'Knife', 'Umbrella']),\n",
       "       list(['Laptop', 'Towel', 'Pants', 'Fork', 'Food', 'Gloves']),\n",
       "       list(['Socks', 'Towel', 'Coat', 'Cellphone', 'Pants', 'Boots', 'Book', 'Shirts', 'Gloves']),\n",
       "       list(['Pants', 'Laptop', 'Food', 'Glasses', 'Fork', 'Book']),\n",
       "       list(['Boots', 'Food', 'Sunscream', 'Cellphone', 'Gloves', 'Pants', 'Socks']),\n",
       "       list(['Pants', 'Umbrella', 'Knife', 'Sunscream', 'Boots']),\n",
       "       list(['Blanket', 'Shirts', 'Food', 'Fork', 'Sleeping Bag']),\n",
       "       list(['Gloves', 'Knife', 'Umbrella', 'Shirts', 'Blanket', 'Sunscream', 'Socks']),\n",
       "       list(['Boots', 'Water', 'Towel', 'Cellphone', 'Fork', 'Blanket', 'Laptop', 'Pants']),\n",
       "       list(['Matches', 'Fork', 'Laptop', 'Boots', 'Shirts', 'Towel']),\n",
       "       list(['Socks', 'Shirts', 'Boots', 'Water', 'Gloves', 'Glasses', 'Coat', 'Blanket', 'Book']),\n",
       "       list(['Towel', 'Sunscream', 'Pants', 'Glasses', 'Coat', 'Umbrella', 'Water']),\n",
       "       list(['Book', 'Matches', 'Pants', 'Socks', 'Fork', 'Cellphone', 'Shirts']),\n",
       "       list(['Cellphone', 'Matches', 'Coat', 'Umbrella', 'Towel', 'Pants', 'Knife']),\n",
       "       list(['Gloves', 'Glasses', 'Book', 'Blanket', 'Water', 'Coat', 'Socks', 'Umbrella']),\n",
       "       list(['Shirts', 'Gloves', 'Socks', 'Umbrella', 'Cellphone', 'Pants', 'Book', 'Laptop']),\n",
       "       list(['Knife', 'Coat', 'Glasses', 'Sunscream', 'Shirts', 'Water']),\n",
       "       list(['Matches', 'Pants', 'Laptop', 'Cellphone', 'Sunscream', 'Glasses']),\n",
       "       list(['Water', 'Sunscream', 'Socks', 'Food', 'Book', 'Shirts', 'Cellphone']),\n",
       "       list(['Pants', 'Boots', 'Blanket', 'Sunscream', 'Fork']),\n",
       "       list(['Pants', 'Umbrella', 'Cellphone', 'Sleeping Bag', 'Shirts', 'Glasses', 'Book', 'Towel', 'Socks']),\n",
       "       list(['Food', 'Blanket', 'Pants', 'Matches']),\n",
       "       list(['Fork', 'Laptop', 'Boots', 'Shirts', 'Knife', 'Glasses', 'Water']),\n",
       "       list(['Laptop', 'Cellphone', 'Food', 'Fork', 'Umbrella']),\n",
       "       list(['Matches', 'Pants', 'Coat', 'Sleeping Bag']),\n",
       "       list(['Gloves', 'Knife', 'Blanket', 'Boots', 'Coat', 'Water', 'Shirts']),\n",
       "       list(['Laptop', 'Boots', 'Gloves', 'Matches', 'Water', 'Sleeping Bag']),\n",
       "       list(['Coat', 'Laptop', 'Cellphone', 'Sunscream', 'Towel', 'Matches']),\n",
       "       list(['Blanket', 'Gloves', 'Sunscream', 'Knife', 'Laptop', 'Coat', 'Water', 'Cellphone']),\n",
       "       list(['Socks', 'Book', 'Matches', 'Sleeping Bag', 'Shirts', 'Towel', 'Gloves']),\n",
       "       list(['Gloves', 'Socks', 'Cellphone', 'Glasses', 'Food', 'Book', 'Knife']),\n",
       "       list(['Boots', 'Glasses', 'Cellphone', 'Water', 'Shirts', 'Socks', 'Blanket', 'Book', 'Pants']),\n",
       "       list(['Umbrella', 'Socks', 'Blanket', 'Cellphone', 'Book', 'Fork', 'Knife']),\n",
       "       list(['Food', 'Shirts', 'Sunscream', 'Matches']),\n",
       "       list(['Towel', 'Coat', 'Blanket', 'Socks', 'Book', 'Gloves', 'Shirts', 'Umbrella', 'Pants']),\n",
       "       list(['Matches', 'Coat', 'Laptop', 'Fork']),\n",
       "       list(['Towel', 'Shirts', 'Boots', 'Blanket', 'Sunscream', 'Fork']),\n",
       "       list(['Matches', 'Umbrella', 'Boots', 'Pants']),\n",
       "       list(['Sunscream', 'Laptop', 'Towel', 'Boots', 'Shirts', 'Socks', 'Cellphone']),\n",
       "       list(['Umbrella', 'Water', 'Matches', 'Shirts', 'Towel', 'Knife', 'Fork']),\n",
       "       list(['Water', 'Pants', 'Boots', 'Gloves', 'Fork', 'Umbrella', 'Blanket', 'Cellphone', 'Glasses']),\n",
       "       list(['Matches', 'Umbrella', 'Socks', 'Blanket', 'Cellphone']),\n",
       "       list(['Umbrella', 'Boots', 'Blanket', 'Laptop', 'Coat']),\n",
       "       list(['Book', 'Laptop', 'Cellphone', 'Matches', 'Shirts', 'Coat', 'Blanket']),\n",
       "       list(['Knife', 'Glasses', 'Umbrella', 'Shirts', 'Water', 'Sunscream']),\n",
       "       list(['Shirts', 'Fork', 'Food', 'Water', 'Knife', 'Sleeping Bag']),\n",
       "       list(['Laptop', 'Shirts', 'Glasses', 'Blanket', 'Knife', 'Gloves', 'Towel', 'Book', 'Umbrella']),\n",
       "       list(['Coat', 'Cellphone', 'Laptop', 'Glasses', 'Fork', 'Shirts', 'Water', 'Knife']),\n",
       "       list(['Coat', 'Food', 'Blanket', 'Gloves', 'Shirts', 'Book', 'Pants']),\n",
       "       list(['Shirts', 'Water', 'Umbrella', 'Sunscream', 'Sleeping Bag']),\n",
       "       list(['Socks', 'Food', 'Fork', 'Book', 'Coat']),\n",
       "       list(['Boots', 'Water', 'Knife', 'Cellphone', 'Coat', 'Food']),\n",
       "       list(['Blanket', 'Gloves', 'Fork', 'Sunscream', 'Coat', 'Book']),\n",
       "       list(['Cellphone', 'Water', 'Coat', 'Fork', 'Blanket', 'Gloves', 'Laptop', 'Glasses', 'Socks']),\n",
       "       list(['Pants', 'Book', 'Shirts', 'Fork', 'Umbrella', 'Cellphone', 'Socks', 'Towel']),\n",
       "       list(['Shirts', 'Coat', 'Fork', 'Cellphone', 'Glasses', 'Matches', 'Gloves', 'Blanket']),\n",
       "       list(['Blanket', 'Knife', 'Towel', 'Matches', 'Pants', 'Sleeping Bag', 'Shirts']),\n",
       "       list(['Shirts', 'Sunscream', 'Umbrella', 'Blanket', 'Coat']),\n",
       "       list(['Socks', 'Cellphone', 'Blanket', 'Water', 'Pants', 'Umbrella', 'Book']),\n",
       "       list(['Sleeping Bag', 'Laptop', 'Book', 'Towel', 'Boots', 'Matches', 'Cellphone'])],\n",
       "      dtype=object)"
      ]
     },
     "execution_count": 6,
     "metadata": {},
     "output_type": "execute_result"
    }
   ],
   "source": [
    "# First step: Create the first population set\n",
    "def fit_in_knapsack(objects_list, max_weight, objects_dict):\n",
    "    r = []\n",
    "    for o in objects_list:\n",
    "        r.append(o)\n",
    "        # Check if count(item) > 1\n",
    "        for item in r:\n",
    "          flag = r.count(item) > 1\n",
    "        weight, value = get_current_weight_value(r, objects_dict)\n",
    "        if (weight > max_weight) or flag:\n",
    "            r.pop()\n",
    "            return r\n",
    "    return r\n",
    "\n",
    "def genesis(object_list, n_population, max_weight, objects_dict):\n",
    "\n",
    "    population_set = []\n",
    "    for i in range(n_population):\n",
    "        #Randomly generating a new solution\n",
    "        sol_i = object_list[np.random.choice(list(range(n_objects)), n_objects, replace=False)]\n",
    "        sol_i = fit_in_knapsack(sol_i, max_weight, objects_dict)\n",
    "        population_set.append(sol_i)\n",
    "    return np.array(population_set, dtype=object)\n",
    "\n",
    "population_set = genesis(object_list, n_population, max_weight, objects_dict)\n",
    "population_set"
   ]
  },
  {
   "cell_type": "markdown",
   "metadata": {},
   "source": [
    "### Selection\n",
    "\n",
    "From each generation, a few individuals are selected based on their fitness scores. These fitness scores are calculated for each individual based on an objective function. This function is based on the problem statement for which the Genetic Algorithm is being used and indicates an individual’s quality.\n",
    "\n",
    "This fitness score of an individual is an indication of how suitable the respective candidate is for the problem. For each successive generation, a portion of the current population with relatively higher fitness scores is allowed to move to the next iteration. Various schemes such as tournament selection, rank-based selection, roulette wheel selection, elitism selection, etc may be used in the selection stage.\n",
    "\n",
    "Fitness Function: The fitness function that we use here takes input from the chromosome sequence and the values of the individual items. It then returns the profit by calculating the dot product of the two input vectors.\n",
    "\n",
    "Parent Selection: For this, we may use the approach of deterministic tournament selection. In this method, we randomly select two individuals from the population and choose the one with higher fitness. We may observe cases where both individuals have low fitness scores, but they still might contribute to choosing the correct genetic sequence. This type of parent selection results in 50% of the population moving to the next stage. To increase the preference for higher fitness, we may include more than two individuals for consideration in the tournament."
   ]
  },
  {
   "cell_type": "markdown",
   "metadata": {},
   "source": [
    "### Evaluate solutions fitness\n",
    "\n",
    "The solutions are defined so that the first element on the list is the first item to take, then the second, etc. The fitness function needs to compute the total weight of the backpack."
   ]
  },
  {
   "cell_type": "code",
   "execution_count": 7,
   "metadata": {},
   "outputs": [
    {
     "data": {
      "text/plain": [
       "array([213., 285., 351., 222., 348., 339., 128., 230., 289., 229., 271.,\n",
       "       144., 210., 250., 288., 158., 308., 239., 368., 246., 223., 350.,\n",
       "       268., 122., 185., 261., 207., 225., 258., 227., 322., 387., 312.,\n",
       "       213., 375., 249., 243., 192., 323., 240., 162., 316., 320., 231.,\n",
       "       314., 208., 281., 333., 271., 252., 298., 259., 218., 243., 247.,\n",
       "       206., 233., 183., 251., 245., 316., 180., 243., 171., 135., 263.,\n",
       "       194., 224., 286., 323., 303., 246., 256., 214., 344., 126., 336.,\n",
       "       103., 276., 291., 296., 141., 127., 169., 226., 297., 368., 239.,\n",
       "       284., 183., 221., 203., 290., 293., 284., 307., 339., 193., 156.,\n",
       "       238.])"
      ]
     },
     "execution_count": 7,
     "metadata": {},
     "output_type": "execute_result"
    }
   ],
   "source": [
    "def get_all_fitnes(population_set, objects_dict):\n",
    "    fitnes_list = np.zeros(n_population)\n",
    "\n",
    "    #Looping over all solutions computing the fitness for each solution\n",
    "    for i in  range(n_population):\n",
    "        _, fitnes_list[i] = get_current_weight_value(population_set[i], objects_dict)\n",
    "\n",
    "    return fitnes_list\n",
    "\n",
    "fitnes_list = get_all_fitnes(population_set,objects_dict)\n",
    "fitnes_list"
   ]
  },
  {
   "cell_type": "markdown",
   "metadata": {},
   "source": [
    "### Progenitors selection\n",
    "\n",
    "We will select a new set of progenitors using the Roulette Wheel Selection. Generates a list of progenitor pairs where N = len(population_set) but at each position there are two solutions to merge"
   ]
  },
  {
   "cell_type": "code",
   "execution_count": 8,
   "metadata": {},
   "outputs": [],
   "source": [
    "def progenitor_selection(population_set,fitnes_list):\n",
    "    total_fit = fitnes_list.sum()\n",
    "    prob_list = fitnes_list/total_fit\n",
    "\n",
    "    #Notice there is not (of False) a chance that a progenitor. mates with oneself\n",
    "    progenitor_list_a = np.random.choice(list(range(len(population_set))), len(population_set),p=prob_list, replace=False)\n",
    "    progenitor_list_b = np.random.choice(list(range(len(population_set))), len(population_set),p=prob_list, replace=False)\n",
    "\n",
    "    progenitor_list_a = population_set[progenitor_list_a]\n",
    "    progenitor_list_b = population_set[progenitor_list_b]\n",
    "\n",
    "\n",
    "    return np.array([progenitor_list_a,progenitor_list_b])\n",
    "\n",
    "\n",
    "progenitor_list = progenitor_selection(population_set,fitnes_list)\n",
    "#progenitor_list[0][2]"
   ]
  },
  {
   "cell_type": "markdown",
   "metadata": {},
   "source": [
    "### Recombination\n",
    "\n",
    "This is an essential phase of the Algorithm and involves the creation of a new generation from the current population of the selected individuals. Each individual in the new generation is a result of a crossover operation on a pair of “parent” solutions from the pool of selected individuals.\n",
    "\n",
    "The new individual created contains traits from both parents based on the Crossover scheme used. The crossover operation is applied over selected individuals using one of the schemes mentioned previously. This results in a completely new population (also called as Children Population).\n",
    "\n",
    "For each pair of parents we'll generate an offspring pair. Since we cannot repeat items what we'll do is copy a random chunk from one progenitor and fill the blanks with the other progenitor."
   ]
  },
  {
   "cell_type": "code",
   "execution_count": 9,
   "metadata": {},
   "outputs": [
    {
     "data": {
      "text/plain": [
       "['Gloves',\n",
       " 'Socks',\n",
       " 'Sunscream',\n",
       " 'Cellphone',\n",
       " 'Fork',\n",
       " 'Blanket',\n",
       " 'Water',\n",
       " 'Shirts']"
      ]
     },
     "execution_count": 9,
     "metadata": {},
     "output_type": "execute_result"
    }
   ],
   "source": [
    "def mate_progenitors(prog_a, prog_b, max_weight, objects_dict):\n",
    "    offspring = []\n",
    "\n",
    "    for i in zip(prog_a, prog_b):\n",
    "        offspring.extend(i)\n",
    "        offspring = list(dict.fromkeys(offspring)) #Removing duplicates\n",
    "        offspring = fit_in_knapsack(offspring, max_weight, objects_dict)\n",
    "\n",
    "    return offspring\n",
    "\n",
    "\n",
    "\n",
    "def mate_population(progenitor_list, max_weight, objects_dict):\n",
    "    new_population_set = []\n",
    "    for i in range(progenitor_list.shape[1]):\n",
    "        prog_a, prog_b = progenitor_list[0][i], progenitor_list[1][i]\n",
    "        offspring = mate_progenitors(prog_a, prog_b, max_weight, objects_dict)\n",
    "        new_population_set.append(offspring)\n",
    "\n",
    "    return new_population_set\n",
    "\n",
    "new_population_set = mate_population(progenitor_list, max_weight, objects_dict)\n",
    "new_population_set[0]"
   ]
  },
  {
   "cell_type": "markdown",
   "metadata": {},
   "source": [
    "### Mutation\n",
    "\n",
    "This operation is used to create more genetic diversity in a generation. It alters one or more values from the chromosome, resulting in a completely new genome. This often helps avoid premature convergence.\n",
    "\n",
    "This is analogous to biological mutation and alters the chromosomes of the children using one or more schemes such as bit-flip mutation, swap mutation, scramble mutation, etc. In simple terms, mutation may be defined as a small random tweak in the chromosomes, to get a new solution.\n",
    "\n",
    "Now for each element of the new population we add a random chance of swapping"
   ]
  },
  {
   "cell_type": "code",
   "execution_count": 10,
   "metadata": {},
   "outputs": [
    {
     "data": {
      "text/plain": [
       "['Gloves', 'Socks', 'Sunscream', 'Cellphone', 'Coat', 'Fork', 'Blanket']"
      ]
     },
     "execution_count": 10,
     "metadata": {},
     "output_type": "execute_result"
    }
   ],
   "source": [
    "def mutate_offspring(offspring, max_weight, object_list, objects_dict):\n",
    "    for mutation_number in range(int(len(offspring)*mutation_rate)):\n",
    "\n",
    "        a = np.random.randint(0,len(object_list))\n",
    "        b = np.random.randint(0,len(offspring))\n",
    "\n",
    "        offspring.insert(b, object_list[a])\n",
    "\n",
    "    offspring = fit_in_knapsack(offspring, max_weight, objects_dict)\n",
    "\n",
    "    return offspring\n",
    "\n",
    "\n",
    "def mutate_population(new_population_set, max_weight, object_list, objects_dict):\n",
    "    mutated_pop = []\n",
    "    for offspring in new_population_set:\n",
    "        mutated_pop.append(mutate_offspring(offspring, max_weight, object_list, objects_dict))\n",
    "    return mutated_pop\n",
    "\n",
    "mutated_pop = mutate_population(new_population_set, max_weight,object_list, objects_dict)\n",
    "mutated_pop[0]"
   ]
  },
  {
   "cell_type": "markdown",
   "metadata": {},
   "source": [
    "### Termination\n",
    "\n",
    "The loop is terminated when either of the following conditions is met:\n",
    "\n",
    "- A solution is obtained that satisfies a Threshold fitness.\n",
    "- The maximum number of generations specified has been processed.\n",
    "- The allocated computation budget is consumed.\n",
    "- The best fitness for the new generation does not show any significant improvement and seems to have converged at a point.\n",
    "\n",
    "To select the stopping criteria we'll need to create a loop to stop first. Then we'll set it to loop at 1000 iterations."
   ]
  },
  {
   "cell_type": "code",
   "execution_count": 11,
   "metadata": {},
   "outputs": [
    {
     "name": "stdout",
     "output_type": "stream",
     "text": [
      "0 103.0 250.53 02/02/25 19:58\n",
      "100 7.0 214.91 02/02/25 19:58\n",
      "200 22.0 207.84 02/02/25 19:58\n",
      "300 22.0 209.1 02/02/25 19:58\n",
      "400 22.0 222.94 02/02/25 19:58\n",
      "500 41.0 215.83 02/02/25 19:58\n",
      "600 25.0 209.17 02/02/25 19:58\n",
      "700 15.0 212.76 02/02/25 19:58\n",
      "800 8.0 220.72 02/02/25 19:58\n",
      "900 22.0 216.73 02/02/25 19:58\n",
      "1000 48.0 203.6 02/02/25 19:58\n",
      "1100 15.0 215.51 02/02/25 19:58\n",
      "1200 7.0 212.93 02/02/25 19:58\n",
      "1300 36.0 209.45 02/02/25 19:58\n",
      "1400 15.0 221.65 02/02/25 19:58\n",
      "1500 36.0 209.68 02/02/25 19:58\n",
      "1600 15.0 197.65 02/02/25 19:58\n",
      "1700 37.0 218.97 02/02/25 19:58\n",
      "1800 8.0 212.69 02/02/25 19:58\n",
      "1900 41.0 215.8 02/02/25 19:58\n",
      "2000 29.0 225.18 02/02/25 19:58\n",
      "2100 19.0 212.45 02/02/25 19:58\n",
      "2200 15.0 219.01 02/02/25 19:58\n",
      "2300 39.0 219.04 02/02/25 19:58\n",
      "2400 55.0 220.97 02/02/25 19:59\n",
      "2500 24.0 210.57 02/02/25 19:59\n",
      "2600 27.0 206.41 02/02/25 19:59\n",
      "2700 36.0 206.71 02/02/25 19:59\n",
      "2800 22.0 216.23 02/02/25 19:59\n",
      "2900 7.0 201.42 02/02/25 19:59\n",
      "3000 49.0 224.32 02/02/25 19:59\n",
      "3100 31.0 215.91 02/02/25 19:59\n",
      "3200 8.0 218.06 02/02/25 19:59\n",
      "3300 55.0 226.1 02/02/25 19:59\n",
      "3400 22.0 226.44 02/02/25 19:59\n",
      "3500 24.0 207.02 02/02/25 19:59\n",
      "3600 7.0 209.0 02/02/25 19:59\n",
      "3700 33.0 214.31 02/02/25 19:59\n",
      "3800 43.0 205.93 02/02/25 19:59\n",
      "3900 27.0 213.71 02/02/25 19:59\n",
      "4000 29.0 220.34 02/02/25 19:59\n",
      "4100 19.0 214.76 02/02/25 19:59\n",
      "4200 15.0 218.59 02/02/25 19:59\n",
      "4300 31.0 215.55 02/02/25 19:59\n",
      "4400 24.0 213.51 02/02/25 19:59\n",
      "4500 11.0 205.78 02/02/25 19:59\n",
      "4600 22.0 224.16 02/02/25 20:00\n",
      "4700 39.0 219.44 02/02/25 20:00\n",
      "4800 18.0 213.39 02/02/25 20:00\n",
      "4900 27.0 218.38 02/02/25 20:00\n",
      "5000 31.0 216.83 02/02/25 20:00\n",
      "5100 31.0 217.82 02/02/25 20:00\n",
      "5200 15.0 216.29 02/02/25 20:00\n",
      "5300 15.0 212.5 02/02/25 20:00\n",
      "5400 27.0 204.4 02/02/25 20:00\n",
      "5500 46.0 228.3 02/02/25 20:00\n",
      "5600 31.0 215.82 02/02/25 20:00\n",
      "5700 7.0 213.05 02/02/25 20:00\n",
      "5800 19.0 215.95 02/02/25 20:00\n",
      "5900 15.0 213.38 02/02/25 20:00\n",
      "6000 19.0 220.99 02/02/25 20:00\n",
      "6100 8.0 204.53 02/02/25 20:00\n",
      "6200 33.0 214.86 02/02/25 20:00\n",
      "6300 31.0 222.93 02/02/25 20:00\n",
      "6400 15.0 195.83 02/02/25 20:00\n",
      "6500 31.0 221.63 02/02/25 20:00\n",
      "6600 33.0 205.64 02/02/25 20:00\n",
      "6700 60.0 211.95 02/02/25 20:00\n",
      "6800 33.0 205.67 02/02/25 20:00\n",
      "6900 24.0 215.29 02/02/25 20:00\n",
      "7000 22.0 216.69 02/02/25 20:00\n",
      "7100 31.0 208.94 02/02/25 20:00\n",
      "7200 19.0 210.82 02/02/25 20:01\n",
      "7300 19.0 216.58 02/02/25 20:01\n",
      "7400 8.0 211.13 02/02/25 20:01\n",
      "7500 33.0 221.9 02/02/25 20:01\n",
      "7600 22.0 210.29 02/02/25 20:01\n",
      "7700 7.0 211.35 02/02/25 20:01\n",
      "7800 33.0 229.04 02/02/25 20:01\n",
      "7900 57.0 217.76 02/02/25 20:01\n",
      "8000 33.0 217.29 02/02/25 20:01\n",
      "8100 58.0 230.41 02/02/25 20:01\n",
      "8200 7.0 215.6 02/02/25 20:01\n",
      "8300 15.0 219.73 02/02/25 20:01\n",
      "8400 31.0 210.02 02/02/25 20:01\n",
      "8500 39.0 229.47 02/02/25 20:01\n",
      "8600 31.0 210.96 02/02/25 20:01\n",
      "8700 15.0 222.19 02/02/25 20:01\n",
      "8800 37.0 209.31 02/02/25 20:01\n",
      "8900 32.0 215.04 02/02/25 20:01\n",
      "9000 49.0 218.31 02/02/25 20:01\n",
      "9100 22.0 218.92 02/02/25 20:01\n",
      "9200 15.0 205.0 02/02/25 20:01\n",
      "9300 23.0 204.23 02/02/25 20:01\n",
      "9400 31.0 222.28 02/02/25 20:01\n",
      "9500 25.0 227.21 02/02/25 20:01\n",
      "9600 53.0 203.28 02/02/25 20:02\n",
      "9700 15.0 215.91 02/02/25 20:02\n",
      "9800 56.0 236.6 02/02/25 20:02\n",
      "9900 58.0 208.25 02/02/25 20:02\n"
     ]
    }
   ],
   "source": [
    "best_solution = [-1,-np.inf,np.array([], dtype=object)]\n",
    "for i in range(10000):\n",
    "    if i%100==0: print(i, fitnes_list.min(), fitnes_list.mean(), datetime.now().strftime(\"%d/%m/%y %H:%M\"))\n",
    "    fitnes_list = get_all_fitnes(mutated_pop,objects_dict)\n",
    "\n",
    "    #Saving the best solution\n",
    "    if fitnes_list.max() > best_solution[1]:\n",
    "        best_solution[0] = i\n",
    "        best_solution[1] = fitnes_list.max()\n",
    "        best_solution[2] = np.array(mutated_pop, dtype=object)[fitnes_list.max() == fitnes_list]\n",
    "\n",
    "    progenitor_list = progenitor_selection(population_set,fitnes_list)\n",
    "    new_population_set = mate_population(progenitor_list, max_weight, objects_dict)\n",
    "\n",
    "    mutated_pop = mutate_population(new_population_set, max_weight,object_list, objects_dict)"
   ]
  },
  {
   "cell_type": "code",
   "execution_count": 20,
   "metadata": {},
   "outputs": [
    {
     "name": "stdout",
     "output_type": "stream",
     "text": [
      "['Towel', 'Food', 'Shirts', 'Knife', 'Gloves', 'Sleeping Bag']\n"
     ]
    }
   ],
   "source": [
    "get_current_weight_value(best_solution[2][0], objects_dict)\n",
    "print(best_solution[2][0])"
   ]
  }
 ],
 "metadata": {
  "kernelspec": {
   "display_name": "Python 3",
   "language": "python",
   "name": "python3"
  },
  "language_info": {
   "codemirror_mode": {
    "name": "ipython",
    "version": 3
   },
   "file_extension": ".py",
   "mimetype": "text/x-python",
   "name": "python",
   "nbconvert_exporter": "python",
   "pygments_lexer": "ipython3",
   "version": "3.10.0"
  }
 },
 "nbformat": 4,
 "nbformat_minor": 2
}
