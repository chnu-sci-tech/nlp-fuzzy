{
 "cells": [
  {
   "cell_type": "code",
   "execution_count": 1,
   "metadata": {},
   "outputs": [
    {
     "name": "stdout",
     "output_type": "stream",
     "text": [
      "8778\n"
     ]
    }
   ],
   "source": [
    "n = 154 * 7\n",
    "number = 0\n",
    "for i in range(100):\n",
    "    digits = [n // 1000, (n % 1000) // 100, (n % 100 ) // 10, n % 10]\n",
    "    if (digits[0]+ digits[1]+ digits[2]+ digits[3] == 30) and (\n",
    "        digits[0] == digits[1] or digits[0] == digits[2] \n",
    "        or digits[0] == digits[3] or digits[1] == digits[2] or digits[1] == digits[3]\n",
    "        or digits[2] == digits[3]):\n",
    "        number = n \n",
    "        break \n",
    "    n += 154\n",
    "\n",
    "print(number)"
   ]
  },
  {
   "cell_type": "code",
   "execution_count": 3,
   "metadata": {},
   "outputs": [
    {
     "name": "stdout",
     "output_type": "stream",
     "text": [
      "0.023\n",
      "0.34782608695652173\n",
      "0.3913043478260869\n",
      "0.2608695652173913\n"
     ]
    }
   ],
   "source": [
    "a = 0.4*0.02 + 0.3 * 0.03 + 0.3 * 0.02\n",
    "print(a)\n",
    "print((0.4*0.02)/a)\n",
    "print((0.3*0.03)/a)\n",
    "print((0.3*0.02)/a)\n"
   ]
  }
 ],
 "metadata": {
  "kernelspec": {
   "display_name": "Python 3",
   "language": "python",
   "name": "python3"
  },
  "language_info": {
   "codemirror_mode": {
    "name": "ipython",
    "version": 3
   },
   "file_extension": ".py",
   "mimetype": "text/x-python",
   "name": "python",
   "nbconvert_exporter": "python",
   "pygments_lexer": "ipython3",
   "version": "3.10.0"
  }
 },
 "nbformat": 4,
 "nbformat_minor": 2
}
